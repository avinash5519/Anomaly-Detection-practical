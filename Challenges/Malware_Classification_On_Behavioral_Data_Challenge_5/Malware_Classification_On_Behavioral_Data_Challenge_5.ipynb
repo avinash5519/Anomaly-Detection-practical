{
 "cells": [
  {
   "cell_type": "markdown",
   "metadata": {},
   "source": [
    "## Malware Classification on Behavioral Data Challenge 5 "
   ]
  },
  {
   "cell_type": "markdown",
   "metadata": {},
   "source": [
    "### Read the input data files."
   ]
  },
  {
   "cell_type": "code",
   "execution_count": 1,
   "metadata": {
    "collapsed": false
   },
   "outputs": [
    {
     "name": "stdout",
     "output_type": "stream",
     "text": [
      "['0' '10']\n",
      "(2042,)\n",
      "<type 'numpy.int64'> 10 (2042,)\n"
     ]
    }
   ],
   "source": [
    "import numpy as np\n",
    "import os\n",
    "XTrain = np.loadtxt('training_data.csv', skiprows=1, usecols=(0,1), delimiter=',', dtype='str')\n",
    "print XTrain[0]\n",
    "# XTest = np.loadtxt('test_data_public_new.csv', skiprows=1, usecols=(1,), delimiter=',',dtype='str')\n",
    "# print XTest[0]\n",
    "YTrain = XTrain[:,-1]\n",
    "XTrain = XTrain[:,0]\n",
    "print XTrain.shape\n",
    "YTrain = YTrain.astype(np.int)\n",
    "# YTrain = YTrain.reshape(-1,1)\n",
    "print type(YTrain[0]),YTrain[0],YTrain.shape\n",
    "# print XTest.shape"
   ]
  },
  {
   "cell_type": "code",
   "execution_count": 2,
   "metadata": {
    "collapsed": false
   },
   "outputs": [
    {
     "name": "stdout",
     "output_type": "stream",
     "text": [
      "['0' '1' '2' ..., '2039' '2040' '2041'] [10 10 10 ..., 10  5 10]\n"
     ]
    }
   ],
   "source": [
    "print XTrain, YTrain"
   ]
  },
  {
   "cell_type": "code",
   "execution_count": 3,
   "metadata": {
    "collapsed": true
   },
   "outputs": [],
   "source": [
    "def readInputFile(inputFile):\n",
    "    with open(inputFile,'r') as f:\n",
    "        fileContent = f.readlines()\n",
    "        f = [i.strip('\\n') for i in fileContent]\n",
    "        return ' '.join(f)"
   ]
  },
  {
   "cell_type": "code",
   "execution_count": 4,
   "metadata": {
    "collapsed": true
   },
   "outputs": [],
   "source": [
    "def readFolder(folder, fileNames):\n",
    "    path = folder\n",
    "    folderContents = []\n",
    "    for f in fileNames:\n",
    "        folderContents.append(readInputFile(os.path.join(folder, f+'.txt')))\n",
    "    return folderContents"
   ]
  },
  {
   "cell_type": "code",
   "execution_count": 5,
   "metadata": {
    "collapsed": false
   },
   "outputs": [],
   "source": [
    "trainSamples = readFolder(os.getcwd()+os.sep+'train', XTrain)\n",
    "# print len(trainSamples), trainSamples[:2]\n",
    "XTest = [str(i) for i in range(706)]\n",
    "testSamples = readFolder(os.getcwd()+os.sep+'test', XTest)\n",
    "# print len(testSamples), testSamples[:2]"
   ]
  },
  {
   "cell_type": "code",
   "execution_count": 6,
   "metadata": {
    "collapsed": false
   },
   "outputs": [
    {
     "name": "stdout",
     "output_type": "stream",
     "text": [
      "257\n"
     ]
    }
   ],
   "source": [
    "# for item in trainFolder:\n",
    "count = 0\n",
    "indices = []\n",
    "for i in xrange(len(trainSamples)):\n",
    "    if trainSamples[i]=='':\n",
    "        indices.append(i)\n",
    "        \n",
    "print len(indices)"
   ]
  },
  {
   "cell_type": "code",
   "execution_count": 7,
   "metadata": {
    "collapsed": false
   },
   "outputs": [],
   "source": [
    "# for i in indices:\n",
    "#     print i,YTrain[i]"
   ]
  },
  {
   "cell_type": "markdown",
   "metadata": {},
   "source": [
    "### Check Missing Test Cases from Challenge 3"
   ]
  },
  {
   "cell_type": "code",
   "execution_count": 8,
   "metadata": {
    "collapsed": false
   },
   "outputs": [
    {
     "name": "stdout",
     "output_type": "stream",
     "text": [
      "[['69' '94af7ecc940f3f2e0bec2e1e920193a9']\n",
      " ['364' 'e29f3b970b8487e06dd321c48f015493']\n",
      " ['661' '4f449201ecb529ff71a321d6d41d626e']\n",
      " ['33' '0231aebb8155fd069d17eab6a679cc1e']\n",
      " ['104' '8184fedd04e1b3642a77ac96298877c9']\n",
      " ['508' '3cdd0fb587ca6c28c891ff4c75cfe06c']\n",
      " ['521' '016b512e068383a7800166ce945bfb4e']\n",
      " ['179' 'b531346046175207d3b6f326b672d3f8']\n",
      " ['518' '8ada2473ff702a617facc11d6b1ee8ff']\n",
      " ['413' 'e15d7135b0ee671539d100600905bea6']\n",
      " ['398' 'f2a28a9059a7e9884c5f6c46ae5a98f4']\n",
      " ['396' '031b79d4410b3a924803fc46e06bd945']\n",
      " ['279' 'a1aba44b004024083d592e4310469fb1']\n",
      " ['76' '294725ae35ecfb4f5e0d29239213c2c7']\n",
      " ['130' '4fded173211150d51dd97a36ec9797c9']\n",
      " ['452' 'c95ce84ed7dbf6bf3d68b2669d10d2a2']\n",
      " ['298' 'f25de5a9c41c04e8a29b9c6617e628b0']\n",
      " ['606' '00a5b00e9702871aced2b91134c298a1']\n",
      " ['445' '0494d448cc476652b08879486bff7634']\n",
      " ['107' 'd7980d1fb080e8831301fb303a2bc5a6']\n",
      " ['29' 'c67562a02c791c793df0bccf7ffaaf98']\n",
      " ['489' '06258bf3b56c9c46c6b38c64820a11dc']\n",
      " ['316' '637d40585d5225df5b47465c13f4a636']\n",
      " ['280' '6bdfd87e94df7763f26bcce3485fd702']\n",
      " ['126' '0614f6a2c6853e2c06da01a213ed8458']\n",
      " ['109' '372f1c5c378cc2b6a45ec16af441c570']\n",
      " ['531' '0146dc784d2b5f2b819e82468f9e388a']\n",
      " ['244' '0015d7459d4965b83826808d0a47d1ab']\n",
      " ['46' '08754896596057aa06ccd4eb4b393ce1']\n",
      " ['599' 'ca5d15a7dbf3afa8ff6e3d0cfbd3f24e']]\n",
      "['0' '01a5b8cfafffa0537ad2d3c44f7c2aed'] ['0' '78fcb009e022b2dbc71ac8fb64f8f135' '10'] ['0' '7']\n"
     ]
    }
   ],
   "source": [
    "predictionsC3 = os.getcwd()+os.sep+'C3_Predictions.csv'\n",
    "trainC3 = os.getcwd()+os.sep+'training_data_C3.csv'\n",
    "testC3 = os.getcwd()+os.sep+'test_data_public_C3.csv'\n",
    "missingTest = os.getcwd()+os.sep+'test_data_missing_cuckoo.txt'\n",
    "XTestMissing = np.loadtxt(missingTest, usecols=(0,1), delimiter=',', dtype='str')\n",
    "XTrainC3 = np.loadtxt(trainC3, skiprows=1, usecols=(0,1,2), delimiter=',', dtype='str')\n",
    "XTestC3 = np.loadtxt(testC3, skiprows=1, usecols=(0,1), delimiter=',', dtype='str')\n",
    "PredictionsC3 = np.loadtxt(predictionsC3, skiprows=1, usecols=(0,1), delimiter=',', dtype='str')\n",
    "print XTestMissing\n",
    "print XTestC3[0], XTrainC3[0], PredictionsC3[0]"
   ]
  },
  {
   "cell_type": "code",
   "execution_count": 9,
   "metadata": {
    "collapsed": false
   },
   "outputs": [
    {
     "name": "stdout",
     "output_type": "stream",
     "text": [
      "{'0146dc784d2b5f2b819e82468f9e388a': (531, -1), 'd7980d1fb080e8831301fb303a2bc5a6': (107, -1), '00a5b00e9702871aced2b91134c298a1': (606, 10), '031b79d4410b3a924803fc46e06bd945': (396, 2), '0494d448cc476652b08879486bff7634': (445, 3), 'b531346046175207d3b6f326b672d3f8': (179, 10), '4fded173211150d51dd97a36ec9797c9': (130, 10), '0614f6a2c6853e2c06da01a213ed8458': (126, 10), '4f449201ecb529ff71a321d6d41d626e': (661, 5), 'a1aba44b004024083d592e4310469fb1': (279, 10), '372f1c5c378cc2b6a45ec16af441c570': (109, 10), '8ada2473ff702a617facc11d6b1ee8ff': (518, -1), 'e15d7135b0ee671539d100600905bea6': (413, 10), 'e29f3b970b8487e06dd321c48f015493': (364, 1), 'c95ce84ed7dbf6bf3d68b2669d10d2a2': (452, 4), '294725ae35ecfb4f5e0d29239213c2c7': (76, 10), '0015d7459d4965b83826808d0a47d1ab': (244, 5), '08754896596057aa06ccd4eb4b393ce1': (46, 7), 'f2a28a9059a7e9884c5f6c46ae5a98f4': (398, 10), 'f25de5a9c41c04e8a29b9c6617e628b0': (298, 10), '6bdfd87e94df7763f26bcce3485fd702': (280, 10), 'c67562a02c791c793df0bccf7ffaaf98': (29, 10), '637d40585d5225df5b47465c13f4a636': (316, 5), 'ca5d15a7dbf3afa8ff6e3d0cfbd3f24e': (599, 10), '016b512e068383a7800166ce945bfb4e': (521, -1), '06258bf3b56c9c46c6b38c64820a11dc': (489, -1), '0231aebb8155fd069d17eab6a679cc1e': (33, 10), '94af7ecc940f3f2e0bec2e1e920193a9': (69, 4), '3cdd0fb587ca6c28c891ff4c75cfe06c': (508, 10), '8184fedd04e1b3642a77ac96298877c9': (104, -1)}\n"
     ]
    }
   ],
   "source": [
    "missingPredictionsFromC3 = {}\n",
    "for test in XTestMissing:\n",
    "#     print test, test[1], test[1] in XTrainC3[:,1], test[1] in XTestC3[:,1]\n",
    "    if test[1] in XTrainC3[:,1]:\n",
    "        for c3train in XTrainC3:\n",
    "            if c3train[1] == test[1]:\n",
    "                print c3train, test[1]\n",
    "                missingPredictionsFromC3[test[1]] = c3train[2]\n",
    "    elif test[1] in XTestC3[:,1]:\n",
    "        for c3test in XTestC3:\n",
    "            if c3test[1] == test[1]:\n",
    "#                 print c3test, test[1], PredictionsC3[int(c3test[0])][-1]\n",
    "                missingPredictionsFromC3[test[1]] = (int(test[0]),int(PredictionsC3[int(c3test[0])][-1]))\n",
    "    else:\n",
    "#         print test[1]\n",
    "        missingPredictionsFromC3[test[1]] = (int(test[0]),-1)\n",
    "print missingPredictionsFromC3"
   ]
  },
  {
   "cell_type": "code",
   "execution_count": 10,
   "metadata": {
    "collapsed": false
   },
   "outputs": [
    {
     "name": "stdout",
     "output_type": "stream",
     "text": [
      "[(531, -1), (107, -1), (606, 10), (396, 2), (445, 3), (179, 10), (130, 10), (126, 10), (661, 5), (279, 10), (109, 10), (518, -1), (413, 10), (364, 1), (452, 4), (76, 10), (244, 5), (46, 7), (398, 10), (298, 10), (280, 10), (29, 10), (316, 5), (599, 10), (521, -1), (489, -1), (33, 10), (69, 4), (508, 10), (104, -1)]\n"
     ]
    }
   ],
   "source": [
    "print missingPredictionsFromC3.values()"
   ]
  },
  {
   "cell_type": "markdown",
   "metadata": {},
   "source": [
    "### Vowpal Wabbit"
   ]
  },
  {
   "cell_type": "code",
   "execution_count": 11,
   "metadata": {
    "collapsed": false
   },
   "outputs": [],
   "source": [
    "# import pyvw\n",
    "# def cleanVWMessages(XMessages, YTrain, train=False):\n",
    "#     cleanVW = []\n",
    "#     Y = 0\n",
    "#     for i in xrange(len(XMessages)):\n",
    "#         if train:\n",
    "#             Y = int(YTrain[i])\n",
    "#         else:\n",
    "#             Y = -1\n",
    "#         if XMessages[i]:\n",
    "#             cleanVW.append((Y,' | '.join(c for c in XMessages[i] if c not in ':|\\n\\t\\r')))\n",
    "#             #f.write(str(Y) + ':' + '|' + str(i+1)+' subject:' + ''.join(c for c in trainSubjects[i] if c not in ':|\\n\\t\\r') +'\\r')\n",
    "#         else:\n",
    "#             cleanVW.append((Y,' '))\n",
    "#             #f.write(str(Y) + ':' + '|' + str(i+1)+' subject:' + '' +'\\r')\n",
    "#     # f.close()\n",
    "#     print len(cleanVW)\n",
    "#     return cleanVW\n",
    "# #     print trainVW[0]"
   ]
  },
  {
   "cell_type": "code",
   "execution_count": 12,
   "metadata": {
    "collapsed": false
   },
   "outputs": [],
   "source": [
    "# print trainFolder[:2]\n",
    "# trainClean = cleanVWMessages(trainFolder, YTrain, train=True)\n",
    "# print trainClean[0:2]\n",
    "# print testFolder[:2]\n",
    "# testClean = cleanVWMessages(testFolder, YTrain, train=False)\n",
    "# print testClean[0:2]"
   ]
  },
  {
   "cell_type": "code",
   "execution_count": 13,
   "metadata": {
    "collapsed": true
   },
   "outputs": [],
   "source": [
    "# def classifyVW(XTrain, XTest, YTrain, YTest, XTestSubs, XTestEmailBody, XTestSender, XTestDate, params, ruled):\n",
    "#     parameters = params['parameters']\n",
    "#     vw = pyvw.vw(parameters)\n",
    "#     for train in XTrain:\n",
    "#         ex = vw.example(str(train[0]) + \" | \" + train[1])\n",
    "#         ex.learn()\n",
    "#     YPred = []\n",
    "#     for test in XTest:\n",
    "#         ex1 = vw.example(\" | \" + test[1])\n",
    "#         ex1.learn() \n",
    "#     #     print ex1.get_updated_prediction(),ex1.get_simplelabel_prediction() #<-- the same for every prediction?\n",
    "#         if ex1.get_simplelabel_prediction() > 0:\n",
    "#             YPred.append(1)\n",
    "#         else:\n",
    "#             YPred.append(0)\n",
    "#     if ruled:\n",
    "#         rules = params['rules']\n",
    "\n",
    "#         for r in rules:\n",
    "#             if r==1:\n",
    "#                 YPred = ApplyStaticRule1(XTestSubs, YPred)\n",
    "#             elif r==2:\n",
    "#                 YPred = ApplyStaticRule2(XTestEmailBody, YPred)\n",
    "#             elif r==3:\n",
    "#                 YPred = ApplyStaticRule3(XTestDate, YPred)\n",
    "#             elif r==4:\n",
    "#                 YPred = ApplyStaticRule4(XTestSender, YPred)\n",
    "#             elif r==5:\n",
    "#                 YPred = ApplyStaticRule5(XTestEmailBody, YPred)\n",
    "\n",
    "# #     return YPred\n",
    "#     YPred = np.array(YPred)\n",
    "#     YTest = np.array(YTest)\n",
    "#     diff = YPred - YTest\n",
    "#     score = diff[diff == 0].size\n",
    "#     return (100.0 * score)/(YPred.size)\n"
   ]
  },
  {
   "cell_type": "code",
   "execution_count": 14,
   "metadata": {
    "collapsed": false
   },
   "outputs": [],
   "source": [
    "# parameters = ''\n",
    "# vw = pyvw.vw(parameters)\n",
    "# for train in trainClean:\n",
    "#     ex = vw.example(str(train[0]) + \" | \" + train[1])\n",
    "#     ex.learn()\n",
    "# YPred = []\n",
    "# for test in testClean:\n",
    "#     ex1 = vw.example(\" | \" + test[1])\n",
    "#     ex1.learn() \n",
    "# #     print ex1.get_updated_prediction(),ex1.get_simplelabel_prediction() #<-- the same for every prediction?\n",
    "#     if ex1.get_simplelabel_prediction() >= 10:\n",
    "#         YPred.append(10)\n",
    "#     elif ex1.get_simplelabel_prediction() >= 9:\n",
    "#         YPred.append(9)\n",
    "#     elif ex1.get_simplelabel_prediction() >= 8:\n",
    "#         YPred.append(8)\n",
    "#     elif ex1.get_simplelabel_prediction() >= 7:\n",
    "#         YPred.append(7)\n",
    "#     elif ex1.get_simplelabel_prediction() >= 6:\n",
    "#         YPred.append(6)\n",
    "#     elif ex1.get_simplelabel_prediction() >= 5:\n",
    "#         YPred.append(5)\n",
    "#     elif ex1.get_simplelabel_prediction() >= 4:\n",
    "#         YPred.append(4)\n",
    "#     elif ex1.get_simplelabel_prediction() >= 3:\n",
    "#         YPred.append(3)\n",
    "#     elif ex1.get_simplelabel_prediction() >= 2:\n",
    "#         YPred.append(2)\n",
    "#     elif ex1.get_simplelabel_prediction() >= 1:\n",
    "#         YPred.append(1)\n",
    "#     elif ex1.get_simplelabel_prediction() >= 0:\n",
    "#         YPred.append(0)\n",
    "\n",
    "# writePredictedLabelFile(YPred)\n",
    "        \n",
    "# #     else:\n",
    "# #         YPred.append(0)\n",
    "\n",
    "# #     return YPred\n",
    "# # YPred = np.array(YPred)\n",
    "# # YTest = np.array(YTest)\n",
    "# # diff = YPred - YTest\n",
    "# # score = diff[diff == 0].size\n",
    "# # return (100.0 * score)/(YPred.size)\n"
   ]
  },
  {
   "cell_type": "markdown",
   "metadata": {},
   "source": [
    "### Bag of Words as Features"
   ]
  },
  {
   "cell_type": "code",
   "execution_count": 15,
   "metadata": {
    "collapsed": false
   },
   "outputs": [
    {
     "name": "stdout",
     "output_type": "stream",
     "text": [
      "5729\n",
      "(2042, 5729)\n",
      "(706, 5729)\n"
     ]
    }
   ],
   "source": [
    "from sklearn.feature_extraction.text import CountVectorizer\n",
    "vectorizer = CountVectorizer()\n",
    "XTr = vectorizer.fit_transform(trainSamples)\n",
    "print len(vectorizer.get_feature_names())\n",
    "trainBagVector = XTr.toarray()\n",
    "print trainBagVector.shape\n",
    "XTe = vectorizer.transform(testSamples)\n",
    "testBagVector = XTe.toarray()\n",
    "print testBagVector.shape"
   ]
  },
  {
   "cell_type": "markdown",
   "metadata": {},
   "source": [
    "### TF-IDF"
   ]
  },
  {
   "cell_type": "code",
   "execution_count": 16,
   "metadata": {
    "collapsed": false
   },
   "outputs": [
    {
     "name": "stdout",
     "output_type": "stream",
     "text": [
      "(2042, 5729) (706, 5729)\n",
      "[ 0.  0.  0. ...,  0.  0.  0.]\n",
      "[ 0.  0.  0. ...,  0.  0.  0.]\n"
     ]
    }
   ],
   "source": [
    "from sklearn.feature_extraction.text import TfidfTransformer\n",
    "transformer = TfidfTransformer()\n",
    "# print transformer   \n",
    "tfidfTrain = transformer.fit_transform(trainBagVector)\n",
    "tfidfTrain = tfidfTrain.toarray()\n",
    "tfidfTest = transformer.fit_transform(testBagVector)\n",
    "tfidfTest = tfidfTest.toarray()\n",
    "print tfidfTrain.shape, tfidfTest.shape\n",
    "print tfidfTrain[0]\n",
    "print tfidfTest[0]"
   ]
  },
  {
   "cell_type": "code",
   "execution_count": 17,
   "metadata": {
    "collapsed": false
   },
   "outputs": [],
   "source": [
    "# f=open(\"trainBagVector.txt\",'w')\n",
    "# f.write(trainBagVector)\n",
    "# np.savetxt(\"trainBagVector.txt\",trainBagVector)"
   ]
  },
  {
   "cell_type": "markdown",
   "metadata": {},
   "source": [
    "### State Transitions"
   ]
  },
  {
   "cell_type": "code",
   "execution_count": 18,
   "metadata": {
    "collapsed": false
   },
   "outputs": [
    {
     "name": "stdout",
     "output_type": "stream",
     "text": [
      "5729 5729\n"
     ]
    }
   ],
   "source": [
    "stateDict = {}\n",
    "featureVectors = vectorizer.get_feature_names()\n",
    "for i in xrange(len(featureVectors)):\n",
    "    stateDict[featureVectors[i]] = i+1\n",
    "print len(stateDict), len(featureVectors) #, stateDict"
   ]
  },
  {
   "cell_type": "code",
   "execution_count": 19,
   "metadata": {
    "collapsed": false
   },
   "outputs": [],
   "source": [
    "def createStateTransitionVector(categoricalState, stateDict, maxLength):\n",
    "    if categoricalState:\n",
    "        feature = []\n",
    "        for state in categoricalState.split(' '):\n",
    "            try:\n",
    "                feature.append(stateDict[state.lower()])\n",
    "            except KeyError:\n",
    "                pass\n",
    "#                 print state\n",
    "        if len(feature) != maxLength:\n",
    "            for i in xrange(maxLength-len(feature)):\n",
    "                feature.append(0)\n",
    "        assert(len(feature)==maxLength)\n",
    "        return feature\n",
    "    else:\n",
    "        return [0] * maxLength"
   ]
  },
  {
   "cell_type": "code",
   "execution_count": 20,
   "metadata": {
    "collapsed": true
   },
   "outputs": [],
   "source": [
    "def createStateVectors(XStates, stateDict, maxLength):\n",
    "    XFeatures = []\n",
    "    for state in XStates:\n",
    "        XFeatures.append(createStateTransitionVector(state, stateDict, maxLength))\n",
    "    return XFeatures"
   ]
  },
  {
   "cell_type": "code",
   "execution_count": 21,
   "metadata": {
    "collapsed": false
   },
   "outputs": [],
   "source": [
    "trainStateTransitionVector =  createStateVectors(trainSamples, stateDict,9353)\n",
    "testStateTransitionVector = createStateVectors(testSamples, stateDict,9353)\n",
    "# print trainStateTransitionVector[:2], testStateTransitionVector[:2]"
   ]
  },
  {
   "cell_type": "code",
   "execution_count": 22,
   "metadata": {
    "collapsed": false
   },
   "outputs": [
    {
     "name": "stdout",
     "output_type": "stream",
     "text": [
      "9353\n",
      "9353\n"
     ]
    }
   ],
   "source": [
    "print max([len(i) for i in trainStateTransitionVector])\n",
    "print max([len(i) for i in testStateTransitionVector])"
   ]
  },
  {
   "cell_type": "markdown",
   "metadata": {},
   "source": [
    "### N Grams as features"
   ]
  },
  {
   "cell_type": "code",
   "execution_count": 23,
   "metadata": {
    "collapsed": false
   },
   "outputs": [
    {
     "name": "stdout",
     "output_type": "stream",
     "text": [
      "CountVectorizer(analyzer=u'word', binary=False, decode_error=u'strict',\n",
      "        dtype=<type 'numpy.int64'>, encoding=u'utf-8', input=u'content',\n",
      "        lowercase=True, max_df=1.0, max_features=None, min_df=1,\n",
      "        ngram_range=(1, 3), preprocessor=None, stop_words=None,\n",
      "        strip_accents=None, token_pattern=u'(?u)\\\\b\\\\w\\\\w+\\\\b',\n",
      "        tokenizer=None, vocabulary=None)\n",
      "78310\n",
      "(2042, 78310)\n",
      "(706, 78310)\n"
     ]
    }
   ],
   "source": [
    "import scipy as sp\n",
    "noNGram = 3\n",
    "vectorizerNGram = CountVectorizer(ngram_range=(1, noNGram))\n",
    "XTrainNGram = vectorizerNGram.fit_transform(trainSamples)\n",
    "\n",
    "print vectorizerNGram\n",
    "\n",
    "\n",
    "print len(vectorizerNGram.get_feature_names())\n",
    "trainNGramVector = XTrainNGram.toarray()\n",
    "print trainNGramVector.shape\n",
    "XTestNGram = vectorizerNGram.transform(testSamples)\n",
    "testNGramVector = XTestNGram.toarray()\n",
    "print testNGramVector.shape\n",
    "\n",
    "\n",
    "matrix_train = sp.sparse.csr_matrix(trainNGramVector)\n",
    "matrix_test = sp.sparse.csr_matrix(testNGramVector)"
   ]
  },
  {
   "cell_type": "markdown",
   "metadata": {},
   "source": [
    "### Write Predicted Output Labels to File"
   ]
  },
  {
   "cell_type": "code",
   "execution_count": 24,
   "metadata": {
    "collapsed": true
   },
   "outputs": [],
   "source": [
    "def writePredictedLabelFile(YPred):\n",
    "    f = open(\"Predictions.csv\",\"w\")\n",
    "    f.write(\"Id,Label\" + \"\\n\")\n",
    "    for i in xrange(len(YPred)):\n",
    "        f.write(str(i) + \",\" + str(int(YPred[i]))+ \"\\n\")\n",
    "    f.close()"
   ]
  },
  {
   "cell_type": "markdown",
   "metadata": {},
   "source": [
    "### Use of Challenge 3 predictions to boost our results."
   ]
  },
  {
   "cell_type": "code",
   "execution_count": 25,
   "metadata": {
    "collapsed": false
   },
   "outputs": [],
   "source": [
    "def UseChallenge3Predictions(YPred):\n",
    "    for missingTest in missingPredictionsFromC3.values():\n",
    "        if missingTest[1] != -1:\n",
    "#             print YPred[missingTest[0]], missingTest[1]\n",
    "            YPred[missingTest[0]] = missingTest[1]\n",
    "        else:\n",
    "            pass\n",
    "#             print YPred[missingTest[0]], missingTest[1]\n",
    "    #         YPred[missingTest[0]] = 10\n",
    "    writePredictedLabelFile(YPred)\n",
    "    "
   ]
  },
  {
   "cell_type": "code",
   "execution_count": 26,
   "metadata": {
    "collapsed": true
   },
   "outputs": [],
   "source": [
    "# f = open(\"testVW.dat\",'w')\n",
    "# for tm in testClean:\n",
    "#     f.write(' | '+tm[1] + '\\r')\n",
    "# f.close()\n",
    "    "
   ]
  },
  {
   "cell_type": "code",
   "execution_count": 27,
   "metadata": {
    "collapsed": false
   },
   "outputs": [],
   "source": [
    "# f = open(\"trainVW.dat\",'w')\n",
    "# for tr in trainClean:\n",
    "#     f.write(str(tr[0])+' | '+tr[1] + '\\r')\n",
    "# f.close()\n",
    "# #     "
   ]
  },
  {
   "cell_type": "markdown",
   "metadata": {},
   "source": [
    "### Hidden Markov Models"
   ]
  },
  {
   "cell_type": "code",
   "execution_count": 28,
   "metadata": {
    "collapsed": false
   },
   "outputs": [
    {
     "name": "stderr",
     "output_type": "stream",
     "text": [
      "/home/vishal/anaconda2/lib/python2.7/site-packages/hmmlearn-0.2.0-py2.7-linux-x86_64.egg/hmmlearn/base.py:459: RuntimeWarning: divide by zero encountered in log\n",
      "/home/vishal/anaconda2/lib/python2.7/site-packages/hmmlearn-0.2.0-py2.7-linux-x86_64.egg/hmmlearn/base.py:460: RuntimeWarning: divide by zero encountered in log\n",
      "/home/vishal/anaconda2/lib/python2.7/site-packages/hmmlearn-0.2.0-py2.7-linux-x86_64.egg/hmmlearn/base.py:468: RuntimeWarning: divide by zero encountered in log\n",
      "/home/vishal/anaconda2/lib/python2.7/site-packages/hmmlearn-0.2.0-py2.7-linux-x86_64.egg/hmmlearn/base.py:469: RuntimeWarning: divide by zero encountered in log\n",
      "/home/vishal/anaconda2/lib/python2.7/site-packages/hmmlearn-0.2.0-py2.7-linux-x86_64.egg/hmmlearn/base.py:624: RuntimeWarning: divide by zero encountered in log\n",
      "/home/vishal/anaconda2/lib/python2.7/site-packages/hmmlearn-0.2.0-py2.7-linux-x86_64.egg/hmmlearn/base.py:451: RuntimeWarning: divide by zero encountered in log\n",
      "/home/vishal/anaconda2/lib/python2.7/site-packages/hmmlearn-0.2.0-py2.7-linux-x86_64.egg/hmmlearn/base.py:452: RuntimeWarning: divide by zero encountered in log\n"
     ]
    }
   ],
   "source": [
    "from hmmlearn.hmm import GaussianHMM\n",
    "\n",
    "XTrainHMM = trainBagVector\n",
    "XTestHMM = testBagVector\n",
    "\n",
    "# Make an HMM instance and fitting to HMM\n",
    "model = GaussianHMM(n_components=10, covariance_type=\"diag\", n_iter=1000).fit(XTrainHMM)\n",
    "\n",
    "# Predict the optimal sequence of internal hidden state\n",
    "hidden_states = model.predict(XTestHMM)"
   ]
  },
  {
   "cell_type": "markdown",
   "metadata": {},
   "source": [
    "### Print trained parameters"
   ]
  },
  {
   "cell_type": "code",
   "execution_count": 74,
   "metadata": {
    "collapsed": false
   },
   "outputs": [
    {
     "name": "stdout",
     "output_type": "stream",
     "text": [
      "GaussianHMM(algorithm='viterbi', covariance_type='diag', covars_prior=0.01,\n",
      "      covars_weight=1, init_params='stmc', means_prior=0, means_weight=0,\n",
      "      n_components=10, n_iter=1000, params='stmc', random_state=None,\n",
      "      startprob_prior=1.0, tol=0.01, transmat_prior=1.0, verbose=False)\n",
      "Transition matrix\n",
      "[[ 0.36653895  0.00127714  0.00127714  0.00127714  0.25542784  0.07279694\n",
      "   0.24393359  0.01021711  0.04725415  0.        ]\n",
      " [ 0.          0.          0.          0.          0.          0.          0.\n",
      "   0.          1.          0.        ]\n",
      " [ 1.          0.          0.          0.          0.          0.          0.\n",
      "   0.          0.          0.        ]\n",
      " [ 0.          0.          0.          0.          1.          0.          0.\n",
      "   0.          0.          0.        ]\n",
      " [ 0.3384913   0.          0.          0.          0.28046422  0.09477756\n",
      "   0.23984526  0.00386847  0.04061895  0.00193424]\n",
      " [ 0.44936709  0.          0.          0.          0.2278481   0.05063291\n",
      "   0.1835443   0.          0.08860759  0.        ]\n",
      " [ 0.41473684  0.          0.          0.          0.23157895  0.08\n",
      "   0.22947368  0.          0.04421053  0.        ]\n",
      " [ 0.9         0.          0.          0.          0.          0.1         0.\n",
      "   0.          0.          0.        ]\n",
      " [ 0.43617022  0.          0.          0.          0.26595745  0.06382979\n",
      "   0.23404255  0.          0.          0.        ]\n",
      " [ 1.          0.          0.          0.          0.          0.          0.\n",
      "   0.          0.          0.        ]]\n"
     ]
    }
   ],
   "source": [
    "print model\n",
    "print(\"Transition matrix\")\n",
    "print(model.transmat_)"
   ]
  },
  {
   "cell_type": "code",
   "execution_count": 75,
   "metadata": {
    "collapsed": false
   },
   "outputs": [
    {
     "name": "stdout",
     "output_type": "stream",
     "text": [
      "[0 0 6 6 6 0 4 6 6 5 6 0 6 5 0 0 0 4 0 0 6 6 6 0 0 6 6 0 5 4 6 6 5 4 4 0 6\n",
      " 6 5 0 6 6 0 4 6 4 4 0 6 4 0 5 6 4 6 6 0 4 6 4 5 5 6 6 0 0 4 6 6 4 0 0 6 6\n",
      " 6 0 4 6 8 0 5 6 6 6 6 0 5 0 6 4 0 0 0 0 4 0 0 0 6 6 0 0 0 0 4 6 4 4 0 4 0\n",
      " 0 6 0 0 4 6 0 0 4 5 6 0 0 6 6 4 0 0 0 4 4 5 4 6 0 8 6 8 0 4 4 5 0 4 4 5 6\n",
      " 5 5 6 0 4 6 5 4 4 4 4 5 0 6 6 0 4 0 5 0 0 0 0 5 0 6 0 4 4 4 0 4 5 4 0 0 0\n",
      " 0 0 0 0 0 0 0 0 0 0 6 0 6 0 0 0 7 0 0 6 0 5 5 0 0 6 4 0 6 0 5 5 0 5 6 6 0\n",
      " 6 0 6 0 4 6 4 0 4 0 5 0 0 5 6 6 5 5 5 0 4 4 4 4 5 5 4 4 4 0 0 0 4 5 5 4 5\n",
      " 0 8 5 5 4 6 0 5 5 4 4 0 0 5 0 6 4 6 5 0 4 4 5 4 0 0 4 6 5 4 4 0 5 0 0 5 0\n",
      " 6 0 4 5 4 5 4 5 6 4 4 0 0 0 5 6 0 8 4 4 4 0 0 6 0 5 0 0 4 6 0 5 5 4 5 4 5\n",
      " 6 5 5 6 4 6 6 0 6 6 5 6 0 4 4 6 0 0 0 5 4 0 5 4 4 0 0 5 4 5 4 4 0 5 5 4 5\n",
      " 5 5 4 6 4 5 0 4 0 6 4 5 5 6 5 5 0 8 0 0 4 0 0 4 4 5 4 5 4 6 4 4 0 5 0 5 6\n",
      " 4 5 4 6 0 6 4 5 6 4 0 4 4 4 4 5 0 6 4 5 4 6 0 0 4 4 4 0 6 5 4 4 0 0 5 5 4\n",
      " 4 4 5 5 4 4 4 4 4 5 5 8 0 5 5 0 0 4 6 5 0 4 4 5 4 5 4 4 6 5 5 8 0 4 5 5 4\n",
      " 0 0 8 5 4 4 0 4 4 5 4 0 0 0 8 0 6 5 5 5 4 5 4 6 4 5 6 4 4 8 0 0 0 8 0 0 6\n",
      " 4 0 6 4 5 0 6 0 5 6 6 4 6 4 0 0 0 8 0 0 5 8 5 5 6 5 6 4 5 5 4 4 0 4 4 5 5\n",
      " 5 0 0 4 6 5 0 6 0 5 5 4 5 6 0 0 0 0 5 4 4 6 4 0 5 4 5 6 5 4 8 4 4 0 5 5 0\n",
      " 0 0 8 0 4 5 4 4 5 4 5 4 5 4 4 4 4 0 0 4 0 5 4 4 0 5 5 0 4 0 0 0 4 0 6 0 4\n",
      " 5 0 0 5 6 5 0 8 4 4 0 5 5 6 4 0 4 0 0 4 0 8 6 4 5 6 5 5 0 0 0 5 4 5 4 6 5\n",
      " 5 4 5 0 0 5 0 4 5 0 4 6 0 0 6 4 5 0 0 4 4 4 5 0 5 4 4 6 4 6 0 5 0 4 5 5 4\n",
      " 0 5 4]\n",
      "(10438892.455037938, array([0, 0, 6, 6, 6, 0, 4, 6, 6, 5, 6, 0, 6, 5, 0, 0, 0, 4, 0, 0, 6, 6, 6,\n",
      "       0, 0, 6, 6, 0, 5, 4, 6, 6, 5, 4, 4, 0, 6, 6, 5, 0, 6, 6, 0, 4, 6, 4,\n",
      "       4, 0, 6, 4, 0, 5, 6, 4, 6, 6, 0, 4, 6, 4, 5, 5, 6, 6, 0, 0, 4, 6, 6,\n",
      "       4, 0, 0, 6, 6, 6, 0, 4, 6, 8, 0, 5, 6, 6, 6, 6, 0, 5, 0, 6, 4, 0, 0,\n",
      "       0, 0, 4, 0, 0, 0, 6, 6, 0, 0, 0, 0, 4, 6, 4, 4, 0, 4, 0, 0, 6, 0, 0,\n",
      "       4, 6, 0, 0, 4, 5, 6, 0, 0, 6, 6, 4, 0, 0, 0, 4, 4, 5, 4, 6, 0, 8, 6,\n",
      "       8, 0, 4, 4, 5, 0, 4, 4, 5, 6, 5, 5, 6, 0, 4, 6, 5, 4, 4, 4, 4, 5, 0,\n",
      "       6, 6, 0, 4, 0, 5, 0, 0, 0, 0, 5, 0, 6, 0, 4, 4, 4, 0, 4, 5, 4, 0, 0,\n",
      "       0, 0, 0, 0, 0, 0, 0, 0, 0, 0, 0, 6, 0, 6, 0, 0, 0, 7, 0, 0, 6, 0, 5,\n",
      "       5, 0, 0, 6, 4, 0, 6, 0, 5, 5, 0, 5, 6, 6, 0, 6, 0, 6, 0, 4, 6, 4, 0,\n",
      "       4, 0, 5, 0, 0, 5, 6, 6, 5, 5, 5, 0, 4, 4, 4, 4, 5, 5, 4, 4, 4, 0, 0,\n",
      "       0, 4, 5, 5, 4, 5, 0, 8, 5, 5, 4, 6, 0, 5, 5, 4, 4, 0, 0, 5, 0, 6, 4,\n",
      "       6, 5, 0, 4, 4, 5, 4, 0, 0, 4, 6, 5, 4, 4, 0, 5, 0, 0, 5, 0, 6, 0, 4,\n",
      "       5, 4, 5, 4, 5, 6, 4, 4, 0, 0, 0, 5, 6, 0, 8, 4, 4, 4, 0, 0, 6, 0, 5,\n",
      "       0, 0, 4, 6, 0, 5, 5, 4, 5, 4, 5, 6, 5, 5, 6, 4, 6, 6, 0, 6, 6, 5, 6,\n",
      "       0, 4, 4, 6, 0, 0, 0, 5, 4, 0, 5, 4, 4, 0, 0, 5, 4, 5, 4, 4, 0, 5, 5,\n",
      "       4, 5, 5, 5, 4, 6, 4, 5, 0, 4, 0, 6, 4, 5, 5, 6, 5, 5, 0, 8, 0, 0, 4,\n",
      "       0, 0, 4, 4, 5, 4, 5, 4, 6, 4, 4, 0, 5, 0, 5, 6, 4, 5, 4, 6, 0, 6, 4,\n",
      "       5, 6, 4, 0, 4, 4, 4, 4, 5, 0, 6, 4, 5, 4, 6, 0, 0, 4, 4, 4, 0, 6, 5,\n",
      "       4, 4, 0, 0, 5, 5, 4, 4, 4, 5, 5, 4, 4, 4, 4, 4, 5, 5, 8, 0, 5, 5, 0,\n",
      "       0, 4, 6, 5, 0, 4, 4, 5, 4, 5, 4, 4, 6, 5, 5, 8, 0, 4, 5, 5, 4, 0, 0,\n",
      "       8, 5, 4, 4, 0, 4, 4, 5, 4, 0, 0, 0, 8, 0, 6, 5, 5, 5, 4, 5, 4, 6, 4,\n",
      "       5, 6, 4, 4, 8, 0, 0, 0, 8, 0, 0, 6, 4, 0, 6, 4, 5, 0, 6, 0, 5, 6, 6,\n",
      "       4, 6, 4, 0, 0, 0, 8, 0, 0, 5, 8, 5, 5, 6, 5, 6, 4, 5, 5, 4, 4, 0, 4,\n",
      "       4, 5, 5, 5, 0, 0, 4, 6, 5, 0, 6, 0, 5, 5, 4, 5, 6, 0, 0, 0, 0, 5, 4,\n",
      "       4, 6, 4, 0, 5, 4, 5, 6, 5, 4, 8, 4, 4, 0, 5, 5, 0, 0, 0, 8, 0, 4, 5,\n",
      "       4, 4, 5, 4, 5, 4, 5, 4, 4, 4, 4, 0, 0, 4, 0, 5, 4, 4, 0, 5, 5, 0, 4,\n",
      "       0, 0, 0, 4, 0, 6, 0, 4, 5, 0, 0, 5, 6, 5, 0, 8, 4, 4, 0, 5, 5, 6, 4,\n",
      "       0, 4, 0, 0, 4, 0, 8, 6, 4, 5, 6, 5, 5, 0, 0, 0, 5, 4, 5, 4, 6, 5, 5,\n",
      "       4, 5, 0, 0, 5, 0, 4, 5, 0, 4, 6, 0, 0, 6, 4, 5, 0, 0, 4, 4, 4, 5, 0,\n",
      "       5, 4, 4, 6, 4, 6, 0, 5, 0, 4, 5, 5, 4, 0, 5, 4]))\n"
     ]
    }
   ],
   "source": [
    "print hidden_states\n",
    "\n",
    "state_sequence = model.decode(XTestHMM)\n",
    "print state_sequence"
   ]
  },
  {
   "cell_type": "markdown",
   "metadata": {},
   "source": [
    "### NLTK HMM"
   ]
  },
  {
   "cell_type": "code",
   "execution_count": 76,
   "metadata": {
    "collapsed": false
   },
   "outputs": [],
   "source": [
    "# import nltk\n",
    "# import random\n",
    "\n",
    "# s = \"\"\"\"Your humble writer knows a little bit about a lot of things, but despite writing a fair amount about text processing (a book, for example), linguistic processing is a relatively novel area for me. Forgive me if I stumble through my explanations of the quite remarkable Natural Language Toolkit (NLTK), a wonderful tool for teaching, and working in, computational linguistics using Python. Computational linguistics, moreover, is closely related to the fields of artificial intelligence, language/speech recognition, translation, and grammar checking.\\nWhat NLTK includes\\nIt is natural to think of NLTK as a stacked series of layers that build on each other. Readers familiar with lexing and parsing of artificial languages (like, say, Python) will not have too much of a leap to understand the similar -- but deeper -- layers involved in natural language modeling.\\nGlossary of terms\\nCorpora: Collections of related texts. For example, the works of Shakespeare might, collectively, by called a corpus; the works of several authors, corpora.\\nHistogram: The statistic distribution of the frequency of different words, letters, or other items within a data set.\\nSyntagmatic: The study of syntagma; namely, the statistical relations in the contiguous occurrence of letters, words, or phrases in corpora.\\nContext-free grammar: Type-2 in Noam Chomsky's hierarchy of the four types of formal grammars. See Resources for a thorough description.\\nWhile NLTK comes with a number of corpora that have been pre-processed (often manually) to various degrees, conceptually each layer relies on the processing in the adjacent lower layer. Tokenization comes first; then words are tagged; then groups of words are parsed into grammatical elements, like noun phrases or sentences (according to one of several techniques, each with advantages and drawbacks); and finally sentences or other grammatical units can be classified. Along the way, NLTK gives you the ability to generate statistics about occurrences of various elements, and draw graphs that represent either the processing itself, or statistical aggregates in results.\\nIn this article, you'll see some relatively fleshed-out examples from the lower-level capabilities, but most of the higher-level capabilities will be simply described abstractly. Let's now take the first steps past text processing, narrowly construed. \"\"\"\n",
    "# sentences = s.split('.')[:-1]\n",
    "# seq = [map(lambda x:(x,''), ss.split(' ')) for ss in sentences]\n",
    "# symbols = list(set([ss[0] for sss in seq for ss in sss]))\n",
    "# states = range(5)\n",
    "\n",
    "# print seq\n",
    "# # print symbols\n",
    "# print states\n",
    "\n",
    "# trainer = nltk.tag.hmm.HiddenMarkovModelTrainer(states=states,symbols=symbols)\n",
    "# m = trainer.train_unsupervised(seq)\n",
    "# m.random_sample(random.Random(),10)\n"
   ]
  },
  {
   "cell_type": "code",
   "execution_count": 77,
   "metadata": {
    "collapsed": false
   },
   "outputs": [],
   "source": [
    "# from sklearn import hmm\n",
    "# # import GaussianHMM\n",
    "# no_of_states = 100\n",
    "# obsTr = XTr\n",
    "# obsTe = XTe\n",
    "# hmModel = hmm.GaussianHMM(n_components=no_of_states)\n",
    "# print hmModel\n",
    "\n",
    "# hmModel.fit(obsTr)\n",
    "# hmModel.predict(obsTe, algorithm='viterbi')"
   ]
  },
  {
   "cell_type": "markdown",
   "metadata": {
    "collapsed": true
   },
   "source": [
    "### Classifiers"
   ]
  },
  {
   "cell_type": "code",
   "execution_count": 28,
   "metadata": {
    "collapsed": true
   },
   "outputs": [],
   "source": [
    "# Random Forest Classifier\n",
    "from sklearn.ensemble import RandomForestClassifier\n",
    "# def classifyRandomForestClassifier(XTrain, XTest, YTrain, YTest,trees=100,crit='gini'):\n",
    "def classifyRandomForestClassifier(XTrain, XTest, YTrain, YTest, params):\n",
    "    trees = params['trees']\n",
    "    crit = params['criterion']\n",
    "    seed = params['random_state']\n",
    "    clf = RandomForestClassifier(n_estimators=trees,criterion=crit,random_state=seed)\n",
    "    clf.fit(XTrain, YTrain)\n",
    "    YPred = clf.predict(XTest)\n",
    "    diff = YPred - YTest\n",
    "    score = diff[diff == 0].size\n",
    "    return (100.0 * score)/(YPred.size)"
   ]
  },
  {
   "cell_type": "code",
   "execution_count": 29,
   "metadata": {
    "collapsed": true
   },
   "outputs": [],
   "source": [
    "#Multi Class SVM\n",
    "from sklearn import svm\n",
    "def classifyMultiClassSVMClassifier(XTrain, XTest, YTrain, YTest, params):\n",
    "    ker = params['kernel']\n",
    "    YPred = svm.SVC(kernel=ker).fit(XTrain, YTrain).predict(XTest)\n",
    "    diff = YPred - YTest\n",
    "    score = diff[diff == 0].size\n",
    "    return (100.0 * score)/(YPred.size)"
   ]
  },
  {
   "cell_type": "code",
   "execution_count": 30,
   "metadata": {
    "collapsed": true
   },
   "outputs": [],
   "source": [
    "#K Nearest Neighbours Classifier\n",
    "from sklearn.neighbors import KNeighborsClassifier\n",
    "def classifyKNNClassifier(XTrain, XTest, YTrain, YTest, params):\n",
    "#     print XTrain.shape, XTest.shape\n",
    "    neighbours = params['neighbours']\n",
    "    neigh = KNeighborsClassifier(n_neighbors=neighbours)\n",
    "    YPred = neigh.fit(XTrain, YTrain).predict(XTest)\n",
    "    diff = YPred - YTest\n",
    "    score = diff[diff == 0].size\n",
    "    return (100.0 * score)/(YPred.size)"
   ]
  },
  {
   "cell_type": "code",
   "execution_count": 31,
   "metadata": {
    "collapsed": false
   },
   "outputs": [],
   "source": [
    "# Logistic Regression\n",
    "from sklearn import linear_model\n",
    "def classifyLogisticRegression(XTrain, XTest, YTrain, YTest, params):\n",
    "    LogReg = linear_model.LogisticRegression(penalty='l2', dual=False, tol=0.0001, C=1.0, fit_intercept=True, intercept_scaling=1, class_weight=None, random_state=None)\n",
    "    LogReg.fit(XTrain, YTrain)\n",
    "    # Finds the optimal model parameters using a least squares method.\n",
    "    # To get the parameter values:\n",
    "    # LogReg.get_params()\n",
    "    # To predict a new input XTest,\n",
    "    YPred = LogReg.predict(XTest)\n",
    "    diff = YPred - YTest\n",
    "    score = diff[diff == 0].size\n",
    "    return (100.0 * score)/(YPred.size)"
   ]
  },
  {
   "cell_type": "code",
   "execution_count": 32,
   "metadata": {
    "collapsed": true
   },
   "outputs": [],
   "source": [
    "# Adaboost Classfier\n",
    "from sklearn.ensemble import AdaBoostClassifier\n",
    "from sklearn.tree import DecisionTreeClassifier\n",
    "def classifyAdaboostClassifier(XTrain, XTest, YTrain, YTest, params):\n",
    "    depth = params['max_depth']\n",
    "    algo = params['algorithm']\n",
    "    estimators = params['n_estimators']\n",
    "    \n",
    "    # Create and fit an AdaBoosted decision tree\n",
    "    bdt = AdaBoostClassifier(DecisionTreeClassifier(max_depth = depth),\n",
    "                         algorithm = algo,\n",
    "                         n_estimators=estimators)\n",
    "\n",
    "    bdt.fit(XTrain, YTrain)\n",
    "    YPred = bdt.predict(XTest)\n",
    "\n",
    "    diff = YPred - YTest\n",
    "    score = diff[diff == 0].size\n",
    "    return (100.0 * score)/(YPred.size)"
   ]
  },
  {
   "cell_type": "code",
   "execution_count": 33,
   "metadata": {
    "collapsed": true
   },
   "outputs": [],
   "source": [
    "# Neural Networks\n",
    "try:\n",
    "    from sknn.mlp import Classifier, Layer\n",
    "except ImportError:\n",
    "    print 'Please install scikit-neuralnetwork(pip install scikit-neuralnetwork)'\n",
    "\n",
    "def classifyNeuralNetworkClassifier(XTrain, XTest, YTrain, YTest, params):\n",
    "    activation = params['activation']\n",
    "    actLastLayer = params['actLastLayer']\n",
    "    rule = params['rule']\n",
    "    noOfUnits = params['units']\n",
    "    rate = params['rate']\n",
    "    noOfIter = params['iter']\n",
    "    nn = Classifier(layers=[Layer(activation, units=noOfUnits),Layer(actLastLayer)], learning_rule=rule,\n",
    "        learning_rate=0.02,\n",
    "        n_iter=10)\n",
    "    nn.fit(XTrain, YTrain)\n",
    "    YPred = nn.predict(XTest)\n",
    "    diff = YPred - YTest.reshape(YPred.shape)\n",
    "    score = diff[diff == 0].size\n",
    "    score = (100.0 * score)/(YPred.size)\n",
    "    return score"
   ]
  },
  {
   "cell_type": "markdown",
   "metadata": {},
   "source": [
    "### Stratified K Fold Cross Validation"
   ]
  },
  {
   "cell_type": "code",
   "execution_count": 34,
   "metadata": {
    "collapsed": true
   },
   "outputs": [],
   "source": [
    "from sklearn.cross_validation import StratifiedKFold\n",
    "def stratifiedKFoldVal(XTrain, YTrain, classify, params):\n",
    "    n_folds = 5\n",
    "    score = 0.0\n",
    "    skf = StratifiedKFold(YTrain, n_folds)\n",
    "    try:\n",
    "        multi = params['multi']\n",
    "    except KeyError:\n",
    "        multi = False\n",
    "    for train_index, test_index in skf:\n",
    "        y_train, y_test = YTrain[train_index], YTrain[test_index]\n",
    "        if not multi:\n",
    "            X_train, X_test = XTrain[train_index], XTrain[test_index]\n",
    "            score += classify(X_train, X_test,  y_train, y_test, params)\n",
    "        else:\n",
    "            X_train, X_test = [XTrain[i] for i in train_index], [XTrain[i] for i in test_index]\n",
    "            score += classify(np.array(X_train), np.array(X_test),  y_train, y_test, params)\n",
    "        \n",
    "    return score/n_folds"
   ]
  },
  {
   "cell_type": "markdown",
   "metadata": {},
   "source": [
    "### Normalisation of Feature Vectors"
   ]
  },
  {
   "cell_type": "code",
   "execution_count": 35,
   "metadata": {
    "collapsed": false
   },
   "outputs": [],
   "source": [
    "from sklearn import preprocessing\n",
    "def NormalizeVector(XTestFeatures,XTrainFeatures):\n",
    "    XTestFeaturesNorm = preprocessing.normalize(XTestFeatures, norm='l2')\n",
    "    XTrainFeaturesNorm = preprocessing.normalize(XTrainFeatures, norm='l2')\n",
    "    print XTrainFeaturesNorm.shape,XTestFeaturesNorm.shape\n",
    "#     print XTrainFeaturesNorm[0],XTestFeaturesNorm[0]\n",
    "    return XTrainFeaturesNorm, XTestFeaturesNorm"
   ]
  },
  {
   "cell_type": "markdown",
   "metadata": {},
   "source": [
    "### Assign Train features for cross validation based on the feature encoding"
   ]
  },
  {
   "cell_type": "code",
   "execution_count": 86,
   "metadata": {
    "collapsed": false
   },
   "outputs": [
    {
     "name": "stdout",
     "output_type": "stream",
     "text": [
      "<type 'numpy.ndarray'> <type 'list'>\n",
      "(2042, 5729)\n"
     ]
    }
   ],
   "source": [
    "train = trainBagVector\n",
    "# train = tfidfTrain\n",
    "# train = trainStateTransitionVector\n",
    "print type(trainBagVector), type(trainStateTransitionVector)\n",
    "# train = []\n",
    "# for i in xrange(len(trainBagVector)):\n",
    "#     train.append(trainBagVector[i]+trainStateTransitionVector[i])\n",
    "# print len(train)\n",
    "# train = np.hstack([tfidfTrain, np.array(trainStateTransitionVector)])\n",
    "# train = np.hstack([trainBagVector, np.array(trainStateTransitionVector)])\n",
    "print train.shape"
   ]
  },
  {
   "cell_type": "markdown",
   "metadata": {},
   "source": [
    "### Selection of Nearest Neighbours for KNN"
   ]
  },
  {
   "cell_type": "code",
   "execution_count": 87,
   "metadata": {
    "collapsed": false
   },
   "outputs": [
    {
     "name": "stdout",
     "output_type": "stream",
     "text": [
      "86.7775926529\n",
      "89.7161490331\n",
      "88.442167841\n",
      "90.0631390457\n",
      "88.9827416217\n",
      "88.8851758867\n",
      "88.592483141\n",
      "[86.77759265287625, 89.71614903307294, 88.4421678409939, 90.06313904566821, 88.98274162170709, 88.88517588666478, 88.59248314095001]\n"
     ]
    }
   ],
   "source": [
    "selectNeighbourScores = []\n",
    "\n",
    "params = {'neighbours':2}\n",
    "score = stratifiedKFoldVal(train, YTrain, classifyKNNClassifier, params)\n",
    "print score\n",
    "selectNeighbourScores.append(score)\n",
    "\n",
    "params = {'neighbours':3}\n",
    "score = stratifiedKFoldVal(train, YTrain, classifyKNNClassifier, params)\n",
    "print score\n",
    "selectNeighbourScores.append(score)\n",
    "\n",
    "params = {'neighbours':4}\n",
    "score = stratifiedKFoldVal(train, YTrain, classifyKNNClassifier, params)\n",
    "print score\n",
    "selectNeighbourScores.append(score)\n",
    "\n",
    "params = {'neighbours':5}\n",
    "score = stratifiedKFoldVal(train, YTrain, classifyKNNClassifier, params)\n",
    "print score\n",
    "selectNeighbourScores.append(score)\n",
    "\n",
    "params = {'neighbours':6}\n",
    "score = stratifiedKFoldVal(train, YTrain, classifyKNNClassifier, params)\n",
    "print score\n",
    "selectNeighbourScores.append(score)\n",
    "\n",
    "params = {'neighbours':8}\n",
    "score = stratifiedKFoldVal(train, YTrain, classifyKNNClassifier, params)\n",
    "print score\n",
    "selectNeighbourScores.append(score)\n",
    "\n",
    "params = {'neighbours':10}\n",
    "score = stratifiedKFoldVal(train, YTrain, classifyKNNClassifier, params)\n",
    "print score\n",
    "selectNeighbourScores.append(score)\n",
    "\n",
    "print selectNeighbourScores"
   ]
  },
  {
   "cell_type": "code",
   "execution_count": 88,
   "metadata": {
    "collapsed": false
   },
   "outputs": [
    {
     "data": {
      "image/png": "[encoded data removed]",
      "text/plain": [
       "<matplotlib.figure.Figure at 0x7f91eaa48f10>"
      ]
     },
     "metadata": {},
     "output_type": "display_data"
    }
   ],
   "source": [
    "#Plotting the results\n",
    "import matplotlib.pyplot as plt\n",
    "%matplotlib inline\n",
    "plt.plot(selectNeighbourScores, label = \"Neighbors in k-Nearest Neighbor (kNN) Classifier\")\n",
    "plt.title(\"Neighbors in k-Nearest Neighbor (kNN) Classifier\")\n",
    "\n",
    "labels = [2,3,4,5,6,8,10]\n",
    "plt.xticks(np.arange(len(labels)), labels, rotation='horizontal')\n",
    "# plt.title(\"Optimal choice of Neighbors in k-Nearest Neighbor (kNN) Classifier\")\n",
    "plt.ylabel('Categorization Accuracy')\n",
    "plt.xlabel('No. of Neighbours')\n",
    "# plt.legend(bbox_to_anchor=(1.05, 1), loc=2, borderaxespad=0.)\n",
    "plt.show()"
   ]
  },
  {
   "cell_type": "markdown",
   "metadata": {},
   "source": [
    "#### Hence, we choose k = 5 for our nearest neighbor classifier."
   ]
  },
  {
   "cell_type": "code",
   "execution_count": 89,
   "metadata": {
    "collapsed": false
   },
   "outputs": [
    {
     "name": "stdout",
     "output_type": "stream",
     "text": [
      "706 2042\n"
     ]
    }
   ],
   "source": [
    "print len(testStateTransitionVector), len(trainStateTransitionVector)"
   ]
  },
  {
   "cell_type": "code",
   "execution_count": 90,
   "metadata": {
    "collapsed": false
   },
   "outputs": [
    {
     "name": "stdout",
     "output_type": "stream",
     "text": [
      "10 -1\n",
      "10 -1\n",
      "10 10\n",
      "10 2\n",
      "10 3\n",
      "10 10\n",
      "10 10\n",
      "10 10\n",
      "10 5\n",
      "10 10\n",
      "10 10\n",
      "10 -1\n",
      "10 10\n",
      "10 1\n",
      "10 4\n",
      "10 10\n",
      "10 5\n",
      "10 7\n",
      "10 10\n",
      "10 10\n",
      "10 10\n",
      "10 10\n",
      "10 5\n",
      "10 10\n",
      "10 -1\n",
      "10 -1\n",
      "10 10\n",
      "10 4\n",
      "10 10\n",
      "10 -1\n"
     ]
    }
   ],
   "source": [
    "# Submission\n",
    "train = np.hstack([trainBagVector, np.array(trainStateTransitionVector)])\n",
    "test = np.hstack([testBagVector, np.array(testStateTransitionVector)])\n",
    "params = {'neighbours':5}\n",
    "neighbours = params['neighbours']\n",
    "neigh = KNeighborsClassifier(n_neighbors=neighbours)\n",
    "YPred = neigh.fit(train, YTrain).predict(test)\n",
    "# writePredictedLabelFile(YPred)\n",
    "UseChallenge3Predictions(YPred)"
   ]
  },
  {
   "cell_type": "markdown",
   "metadata": {},
   "source": [
    "### Selection of Parameters for Random Forest"
   ]
  },
  {
   "cell_type": "code",
   "execution_count": 91,
   "metadata": {
    "collapsed": false
   },
   "outputs": [
    {
     "name": "stdout",
     "output_type": "stream",
     "text": [
      "91.4280881622\n",
      "91.5260110464\n",
      "91.525293652\n",
      "91.4777112239\n",
      "91.477349246\n",
      "91.4767499627\n",
      "91.377871729\n",
      "91.5747986025\n",
      "91.5738373413\n",
      "91.5252995638\n",
      "91.4766377633\n",
      "91.525293652\n",
      "[91.42808816221368, 91.52601104644414, 91.5252936520207, 91.47771122387496, 91.47734924595753, 91.4767499627003, 91.3778717290318, 91.57479860251574, 91.57383734134108, 91.52529956375729, 91.47663776327067, 91.5252936520207]\n"
     ]
    }
   ],
   "source": [
    "selectRandomForestScores = []\n",
    "\n",
    "params = {'trees':200, 'criterion':'entropy','random_state':1000}\n",
    "score = stratifiedKFoldVal(train, YTrain, classifyRandomForestClassifier, params)\n",
    "print score\n",
    "selectRandomForestScores.append(score)\n",
    "\n",
    "params = {'trees':100, 'criterion':'entropy','random_state':1000}\n",
    "score = stratifiedKFoldVal(train, YTrain, classifyRandomForestClassifier, params)\n",
    "print score\n",
    "selectRandomForestScores.append(score)\n",
    "\n",
    "params = {'trees':500, 'criterion':'entropy','random_state':1000}\n",
    "score = stratifiedKFoldVal(train, YTrain, classifyRandomForestClassifier, params)\n",
    "print score\n",
    "selectRandomForestScores.append(score)\n",
    "\n",
    "params = {'trees':50, 'criterion':'entropy','random_state':1000}\n",
    "score = stratifiedKFoldVal(train, YTrain, classifyRandomForestClassifier, params)\n",
    "print score\n",
    "selectRandomForestScores.append(score)\n",
    "\n",
    "params = {'trees':150, 'criterion':'entropy','random_state':1000}\n",
    "score = stratifiedKFoldVal(train, YTrain, classifyRandomForestClassifier, params)\n",
    "print score\n",
    "selectRandomForestScores.append(score)\n",
    "\n",
    "params = {'trees':250, 'criterion':'entropy','random_state':1000}\n",
    "score = stratifiedKFoldVal(train, YTrain, classifyRandomForestClassifier, params)\n",
    "print score\n",
    "selectRandomForestScores.append(score)\n",
    "\n",
    "params = {'trees':200, 'criterion':'gini','random_state':1000}\n",
    "score = stratifiedKFoldVal(train, YTrain, classifyRandomForestClassifier, params)\n",
    "print score\n",
    "selectRandomForestScores.append(score)\n",
    "\n",
    "params = {'trees':100, 'criterion':'gini','random_state':1000}\n",
    "score = stratifiedKFoldVal(train, YTrain, classifyRandomForestClassifier, params)\n",
    "print score\n",
    "selectRandomForestScores.append(score)\n",
    "\n",
    "params = {'trees':500, 'criterion':'gini','random_state':1000}\n",
    "score = stratifiedKFoldVal(train, YTrain, classifyRandomForestClassifier, params)\n",
    "print score\n",
    "selectRandomForestScores.append(score)\n",
    "\n",
    "params = {'trees':50, 'criterion':'gini','random_state':1000}\n",
    "score = stratifiedKFoldVal(train, YTrain, classifyRandomForestClassifier, params)\n",
    "print score\n",
    "selectRandomForestScores.append(score)\n",
    "\n",
    "params = {'trees':150, 'criterion':'gini','random_state':1000}\n",
    "score = stratifiedKFoldVal(train, YTrain, classifyRandomForestClassifier, params)\n",
    "print score\n",
    "selectRandomForestScores.append(score)\n",
    "\n",
    "params = {'trees':250, 'criterion':'gini','random_state':1000}\n",
    "score = stratifiedKFoldVal(train, YTrain, classifyRandomForestClassifier, params)\n",
    "print score\n",
    "selectRandomForestScores.append(score)\n",
    "\n",
    "print selectRandomForestScores"
   ]
  },
  {
   "cell_type": "code",
   "execution_count": 92,
   "metadata": {
    "collapsed": false
   },
   "outputs": [
    {
     "data": {
      "image/png": "[encoded data removed]",
      "text/plain": [
       "<matplotlib.figure.Figure at 0x7f91f118e5d0>"
      ]
     },
     "metadata": {},
     "output_type": "display_data"
    }
   ],
   "source": [
    "#Plotting the results\n",
    "import matplotlib.pyplot as plt\n",
    "%matplotlib inline\n",
    "plt.plot(selectRandomForestScores, label = \"Random Forest Classifier\")\n",
    "plt.title(\"Random Forest Classifier\")\n",
    "\n",
    "labels = ['200 Trees + entropy', '100 Trees + entropy', '500 Trees + entropy', '50 Trees + entropy', '150 Trees + entropy','250 Trees + entropy',\n",
    "          '200 Trees + gini', '100 Trees + gini', '500 Trees + gini', '50 Trees + gini','150 Trees + gini','250 Trees + gini']\n",
    "\n",
    "# You can specify a rotation for the tick labels in degrees or with keywords.\n",
    "plt.xticks(np.arange(len(labels)), labels, rotation='vertical')\n",
    "\n",
    "plt.ylabel('Scores')\n",
    "plt.xlabel('Parameters')\n",
    "# Place a legend to the right of this smaller figure.\n",
    "# plt.legend(bbox_to_anchor=(1.05, 1), loc=2, borderaxespad=0.)\n",
    "plt.show()"
   ]
  },
  {
   "cell_type": "markdown",
   "metadata": {},
   "source": [
    "#### Hence, we choose 50 Trees with Entropy as a criterion for our Random Forest classifier."
   ]
  },
  {
   "cell_type": "code",
   "execution_count": null,
   "metadata": {
    "collapsed": false
   },
   "outputs": [
    {
     "name": "stdout",
     "output_type": "stream",
     "text": [
      "10 -1\n",
      "10 -1\n",
      "10 10\n",
      "10 2\n",
      "10 3\n",
      "10 10\n",
      "10 10\n",
      "10 10\n",
      "10 5\n",
      "10 10\n",
      "10 10\n",
      "10 -1\n",
      "10 10\n",
      "10 1\n",
      "10 4\n",
      "10 10\n",
      "10 5\n",
      "10 7\n",
      "10 10\n",
      "10 10\n",
      "10 10\n",
      "10 10\n",
      "10 5\n",
      "10 10\n",
      "10 -1\n",
      "10 -1\n",
      "10 10\n",
      "10 4\n",
      "10 10\n",
      "10 -1\n"
     ]
    }
   ],
   "source": [
    "# Submission\n",
    "params = {'trees':150, 'criterion':'entropy','random_state':None}\n",
    "trees = params['trees']\n",
    "crit = params['criterion']\n",
    "seed = params['random_state']\n",
    "clf = RandomForestClassifier(n_estimators=trees,criterion=crit,random_state=seed)\n",
    "clf.fit(tfidfTrain, YTrain)\n",
    "YPred = clf.predict(tfidfTest)\n",
    "# writePredictedLabelFile(YPred)\n",
    "UseChallenge3Predictions(YPred)"
   ]
  },
  {
   "cell_type": "markdown",
   "metadata": {},
   "source": [
    "### Selection of Kernel for Multi Class SVM"
   ]
  },
  {
   "cell_type": "code",
   "execution_count": null,
   "metadata": {
    "collapsed": false
   },
   "outputs": [],
   "source": [
    "selectKernelScores = []\n",
    "\n",
    "params = {'kernel':'poly'}\n",
    "score = stratifiedKFoldVal(train, YTrain, classifyMultiClassSVMClassifier, params)\n",
    "print score\n",
    "selectKernelScores.append(score)\n",
    "\n",
    "params = {'kernel':'linear'}\n",
    "score = stratifiedKFoldVal(train, YTrain, classifyMultiClassSVMClassifier, params)\n",
    "print score\n",
    "selectKernelScores.append(score)\n",
    "\n",
    "params = {'kernel':'rbf'}\n",
    "score = stratifiedKFoldVal(train, YTrain, classifyMultiClassSVMClassifier, params)\n",
    "print score\n",
    "selectKernelScores.append(score)"
   ]
  },
  {
   "cell_type": "code",
   "execution_count": null,
   "metadata": {
    "collapsed": false
   },
   "outputs": [],
   "source": [
    "#Plotting the results\n",
    "import matplotlib.pyplot as plt\n",
    "%matplotlib inline\n",
    "plt.plot(selectKernelScores, label = \"Multiclass SVM Classifier\")\n",
    "\n",
    "labels = ['poly','linear','rbf']\n",
    "plt.title(\"Multiclass SVM Classifier\")\n",
    "# You can specify a rotation for the tick labels in degrees or with keywords.\n",
    "plt.xticks(np.arange(len(labels)), labels, rotation='horizontal')\n",
    "\n",
    "plt.ylabel('Scores')\n",
    "plt.xlabel('Kernel used')\n",
    "# Place a legend to the right of this smaller figure.\n",
    "# plt.legend(bbox_to_anchor=(1.05, 1), loc=2, borderaxespad=0.)\n",
    "plt.show()"
   ]
  },
  {
   "cell_type": "code",
   "execution_count": null,
   "metadata": {
    "collapsed": true
   },
   "outputs": [],
   "source": [
    "#### Hence, we choose Linear Kernel for our SVM classifier."
   ]
  },
  {
   "cell_type": "code",
   "execution_count": null,
   "metadata": {
    "collapsed": true
   },
   "outputs": [],
   "source": [
    "params = {'kernel':'linear'}\n",
    "ker = params['kernel']\n",
    "YPred = svm.SVC(kernel=ker).fit(trainBagVector, YTrain).predict(testBagVector)\n",
    "# writePredictedLabelFile(YPred)\n",
    "UseChallenge3Predictions(YPred)"
   ]
  },
  {
   "cell_type": "markdown",
   "metadata": {},
   "source": [
    "### Logistic Regression"
   ]
  },
  {
   "cell_type": "code",
   "execution_count": null,
   "metadata": {
    "collapsed": false
   },
   "outputs": [],
   "source": [
    "# params = {'multi':False}\n",
    "train = tfidfTrain\n",
    "score = stratifiedKFoldVal(train, YTrain, classifyLogisticRegression, params)\n",
    "print score\n",
    "train = trainBagVector\n",
    "score = stratifiedKFoldVal(train, YTrain, classifyLogisticRegression, params)\n",
    "print score"
   ]
  },
  {
   "cell_type": "code",
   "execution_count": null,
   "metadata": {
    "collapsed": false
   },
   "outputs": [],
   "source": [
    "params = {'multi':True}\n",
    "train = trainStateTransitionVector\n",
    "score = stratifiedKFoldVal(train, YTrain, classifyLogisticRegression, params)\n",
    "print score"
   ]
  },
  {
   "cell_type": "code",
   "execution_count": null,
   "metadata": {
    "collapsed": true
   },
   "outputs": [],
   "source": [
    "LogReg = linear_model.LogisticRegression(penalty='l2', dual=False, tol=0.0001, C=1.0, fit_intercept=True, intercept_scaling=1, class_weight=None, random_state=None)\n",
    "LogReg.fit(trainBagVector, YTrain)\n",
    "YPred = LogReg.predict(testBagVector)\n",
    "# writePredictedLabelFile(YPred)\n",
    "UseChallenge3Predictions(YPred)"
   ]
  },
  {
   "cell_type": "markdown",
   "metadata": {},
   "source": [
    "### Define the parameters for Adaboost and use it on different training dataset"
   ]
  },
  {
   "cell_type": "code",
   "execution_count": null,
   "metadata": {
    "collapsed": true
   },
   "outputs": [],
   "source": [
    "train = trainBagVector\n",
    "params = {'max_depth':1, 'algorithm':'SAMME', 'n_estimators':200}\n",
    "score = stratifiedKFoldVal(train, YTrain, classifyAdaboostClassifier, params)\n",
    "print score"
   ]
  },
  {
   "cell_type": "code",
   "execution_count": null,
   "metadata": {
    "collapsed": true
   },
   "outputs": [],
   "source": [
    "train = trainBagVector\n",
    "params = {'max_depth':10, 'algorithm':'SAMME', 'n_estimators':500}\n",
    "score = stratifiedKFoldVal(train, YTrain, classifyAdaboostClassifier, params)\n",
    "print score"
   ]
  },
  {
   "cell_type": "code",
   "execution_count": null,
   "metadata": {
    "collapsed": true
   },
   "outputs": [],
   "source": [
    "train = tfidfTrain\n",
    "params = {'max_depth':1, 'algorithm':'SAMME', 'n_estimators':200}\n",
    "score = stratifiedKFoldVal(train, YTrain, classifyAdaboostClassifier, params)\n",
    "print score"
   ]
  },
  {
   "cell_type": "code",
   "execution_count": null,
   "metadata": {
    "collapsed": false
   },
   "outputs": [],
   "source": [
    "train = tfidfTrain\n",
    "params = {'max_depth':10, 'algorithm':'SAMME', 'n_estimators':500}\n",
    "score = stratifiedKFoldVal(train, YTrain, classifyAdaboostClassifier, params)\n",
    "print score"
   ]
  },
  {
   "cell_type": "code",
   "execution_count": null,
   "metadata": {
    "collapsed": false
   },
   "outputs": [],
   "source": [
    "# Submission\n",
    "params = {'max_depth':10, 'algorithm':'SAMME', 'n_estimators':500}\n",
    "train = tfidfTrain\n",
    "test = tfidfTest\n",
    "depth = params['max_depth']\n",
    "algo = params['algorithm']\n",
    "estimators = params['n_estimators']\n",
    "\n",
    "# Create and fit an AdaBoosted decision tree\n",
    "bdt = AdaBoostClassifier(DecisionTreeClassifier(max_depth = depth),\n",
    "                     algorithm = algo,\n",
    "                     n_estimators=estimators)\n",
    "\n",
    "bdt.fit(train, YTrain)\n",
    "YPred = bdt.predict(test)\n",
    "# writePredictedLabelFile(YPred)\n",
    "UseChallenge3Predictions(YPred)"
   ]
  },
  {
   "cell_type": "markdown",
   "metadata": {},
   "source": [
    "### Selection of Parameters for Neural Networks"
   ]
  },
  {
   "cell_type": "code",
   "execution_count": null,
   "metadata": {
    "collapsed": true
   },
   "outputs": [],
   "source": [
    "train = trainBagVector\n",
    "# params = {'activation':'Rectifier', 'units':100, 'rate':0.02, 'iter':10}\n",
    "params = {'activation':'Tanh', 'actLastLayer':'Softmax', 'rule':'momentum', 'units':100, 'rate':0.002, 'iter':10}\n",
    "score = stratifiedKFoldVal(train, YTrain, classifyNeuralNetworkClassifier, params)\n",
    "print score"
   ]
  },
  {
   "cell_type": "code",
   "execution_count": null,
   "metadata": {
    "collapsed": true
   },
   "outputs": [],
   "source": [
    "train = trainBagVector\n",
    "# params = {'activation':'Rectifier', 'units':100, 'rate':0.02, 'iter':10}\n",
    "params = {'activation':'Tanh', 'actLastLayer':'Softmax', 'rule':'sgd', 'units':100, 'rate':0.002, 'iter':10}\n",
    "score = stratifiedKFoldVal(train, YTrain, classifyNeuralNetworkClassifier, params)\n",
    "print score"
   ]
  },
  {
   "cell_type": "code",
   "execution_count": null,
   "metadata": {
    "collapsed": true
   },
   "outputs": [],
   "source": [
    "train = trainBagVector\n",
    "params = {'activation':'Sigmoid', 'actLastLayer':'Softmax', 'rule':'rmsprop', 'units':100, 'rate':0.002, 'iter':10}\n",
    "score = stratifiedKFoldVal(train, YTrain, classifyNeuralNetworkClassifier, params)\n",
    "print score"
   ]
  },
  {
   "cell_type": "code",
   "execution_count": null,
   "metadata": {
    "collapsed": true
   },
   "outputs": [],
   "source": [
    "# Submission\n",
    "tr = trainBagVector\n",
    "te = testBagVector\n",
    "params = {'activation':'Tanh', 'actLastLayer':'Softmax', 'rule':'adagrad', 'units':100, 'rate':0.002, 'iter':10}\n",
    "activation = params['activation']\n",
    "actLastLayer = params['actLastLayer']\n",
    "rule = params['rule']\n",
    "noOfUnits = params['units']\n",
    "rate = params['rate']\n",
    "noOfIter = params['iter']\n",
    "nn = Classifier(layers=[Layer(activation, units=noOfUnits),Layer(actLastLayer)], learning_rule=rule,\n",
    "        learning_rate=0.02,\n",
    "        n_iter=10)\n",
    "nn.fit(tr, YTrain)\n",
    "YPred = nn.predict(te)\n",
    "# writePredictedLabelFile(YPred)\n",
    "UseChallenge3Predictions(YPred)"
   ]
  },
  {
   "cell_type": "markdown",
   "metadata": {
    "collapsed": true
   },
   "source": [
    "### Get features in format for Models of NLTK Classify "
   ]
  },
  {
   "cell_type": "code",
   "execution_count": null,
   "metadata": {
    "collapsed": true
   },
   "outputs": [],
   "source": [
    "def featNLTKClassify(samples, phase):\n",
    "    featureVectors = vectorizer.get_feature_names()\n",
    "    nltkClassifySamples = []\n",
    "\n",
    "    for i in xrange(len(samples)):\n",
    "        t = samples[i]\n",
    "        lstFuncCalls = t.split()\n",
    "        wordOccDict = {}\n",
    "        for j in xrange(len(featureVectors)):\n",
    "             wordOccDict[featureVectors[j]] = lstFuncCalls.count(featureVectors[j])\n",
    "        if phase == 'train':\n",
    "            nltkClassifySamples.append((wordOccDict, YTrain[i]))\n",
    "        else:\n",
    "            nltkClassifySamples.append(wordOccDict)\n",
    "\n",
    "    return nltkClassifySamples"
   ]
  },
  {
   "cell_type": "code",
   "execution_count": null,
   "metadata": {
    "collapsed": true
   },
   "outputs": [],
   "source": [
    "nltkClassifyTrain = featNLTKClassify(trainSamples, 'train')\n",
    "nltkClassifyTest = featNLTKClassify(testSamples, 'test')"
   ]
  },
  {
   "cell_type": "markdown",
   "metadata": {},
   "source": [
    "### Nave Baiyes Classifier"
   ]
  },
  {
   "cell_type": "code",
   "execution_count": null,
   "metadata": {
    "collapsed": true
   },
   "outputs": [],
   "source": [
    "tr = nltkClassifyTrain\n",
    "te = nltkClassifyTest\n",
    "classifier = nltk.classify.NaiveBayesClassifier.train(tr)\n",
    "sorted(classifier.labels())"
   ]
  },
  {
   "cell_type": "code",
   "execution_count": null,
   "metadata": {
    "collapsed": true
   },
   "outputs": [],
   "source": [
    "classifier.classify_many(te)\n",
    "\n",
    "classifier.show_most_informative_features()\n",
    "# print nltk.classify.accuracy(classifier, te)*100"
   ]
  },
  {
   "cell_type": "markdown",
   "metadata": {},
   "source": [
    "### Maximum Entropy Classifier"
   ]
  },
  {
   "cell_type": "code",
   "execution_count": null,
   "metadata": {
    "collapsed": true
   },
   "outputs": [],
   "source": [
    "from nltk.classify import maxent\n",
    "tr = nltkClassifyTrain\n",
    "te = nltkClassifyTest\n",
    "classifierME = maxent.MaxentClassifier.train(tr, bernoulli=False, encoding=encoding, trace=0)\n",
    "classifierME.classify_many(te)"
   ]
  },
  {
   "cell_type": "markdown",
   "metadata": {},
   "source": [
    "### Decision Tree Classifier"
   ]
  },
  {
   "cell_type": "code",
   "execution_count": null,
   "metadata": {
    "collapsed": true
   },
   "outputs": [],
   "source": [
    "tr = nltkClassifyTrain\n",
    "te = nltkClassifyTest\n",
    "\n",
    "classifier = nltk.classify.DecisionTreeClassifier.train(tr, entropy_cutoff=0,support_cutoff=0)\n",
    "sorted(classifier.labels())\n",
    "print(classifier)\n",
    "classifier.classify_many(te)"
   ]
  },
  {
   "cell_type": "markdown",
   "metadata": {},
   "source": [
    "### Graphs depicting Categorization Accuracy scores on KFold Stratified Validation on Train data for:"
   ]
  },
  {
   "cell_type": "code",
   "execution_count": 36,
   "metadata": {
    "collapsed": false
   },
   "outputs": [
    {
     "name": "stdout",
     "output_type": "stream",
     "text": [
      "91.4779421841\n",
      "90.0631390457\n",
      "88.9788781921\n",
      "91.0378349435\n",
      "88.162460332\n",
      "88.1531008751\n",
      "91.3791884067\n",
      "88.2964369827\n",
      "91.4777112239\n",
      "88.7841242692\n",
      "[91.47794218414563, 91.03783494351839, 91.37918840671246, 91.47771122387496]\n",
      "[88.9788781921238, 88.1531008751496, 0, 0]\n",
      "[90.06313904566821, 88.16246033200362, 88.29643698273578, 88.78412426915179]\n"
     ]
    }
   ],
   "source": [
    "selectRandomForestScores = []\n",
    "selectKernelScores = []\n",
    "selectNeighbourScores = []\n",
    "\n",
    "train = trainBagVector\n",
    "\n",
    "params = {'trees':50, 'criterion':'entropy','random_state':1000}\n",
    "score = stratifiedKFoldVal(train, YTrain, classifyRandomForestClassifier, params)\n",
    "print score\n",
    "selectRandomForestScores.append(score)\n",
    "\n",
    "params = {'neighbours':5}\n",
    "score = stratifiedKFoldVal(train, YTrain, classifyKNNClassifier, params)\n",
    "print score\n",
    "selectNeighbourScores.append(score)\n",
    "\n",
    "params = {'kernel':'linear'}\n",
    "score = stratifiedKFoldVal(train, YTrain, classifyMultiClassSVMClassifier, params)\n",
    "print score\n",
    "selectKernelScores.append(score)\n",
    "\n",
    "\n",
    "\n",
    "train = tfidfTrain\n",
    "\n",
    "params = {'trees':50, 'criterion':'entropy','random_state':1000}\n",
    "score = stratifiedKFoldVal(train, YTrain, classifyRandomForestClassifier, params)\n",
    "print score\n",
    "selectRandomForestScores.append(score)\n",
    "\n",
    "params = {'neighbours':5}\n",
    "score = stratifiedKFoldVal(train, YTrain, classifyKNNClassifier, params)\n",
    "print score\n",
    "selectNeighbourScores.append(score)\n",
    "\n",
    "params = {'kernel':'linear'}\n",
    "score = stratifiedKFoldVal(train, YTrain, classifyMultiClassSVMClassifier, params)\n",
    "print score\n",
    "selectKernelScores.append(score)\n",
    "\n",
    "\n",
    "train = np.array(trainStateTransitionVector)\n",
    "\n",
    "params = {'trees':50, 'criterion':'entropy','random_state':1000}\n",
    "score = stratifiedKFoldVal(train, YTrain, classifyRandomForestClassifier, params)\n",
    "print score\n",
    "selectRandomForestScores.append(score)\n",
    "\n",
    "params = {'neighbours':5}\n",
    "score = stratifiedKFoldVal(train, YTrain, classifyKNNClassifier, params)\n",
    "print score\n",
    "selectNeighbourScores.append(score)\n",
    "\n",
    "# Doesn't converge !!\n",
    "# params = {'kernel':'linear'}\n",
    "# score = stratifiedKFoldVal(train, YTrain, classifyMultiClassSVMClassifier, params)\n",
    "# print score\n",
    "# selectKernelScores.append(score)\n",
    "selectKernelScores.append(0)\n",
    "\n",
    "\n",
    "train = np.hstack([trainBagVector, np.array(trainStateTransitionVector)])\n",
    "\n",
    "params = {'trees':50, 'criterion':'entropy','random_state':1000}\n",
    "score = stratifiedKFoldVal(train, YTrain, classifyRandomForestClassifier, params)\n",
    "print score\n",
    "selectRandomForestScores.append(score)\n",
    "\n",
    "params = {'neighbours':5}\n",
    "score = stratifiedKFoldVal(train, YTrain, classifyKNNClassifier, params)\n",
    "print score\n",
    "selectNeighbourScores.append(score)\n",
    "\n",
    "# Doesn't converge !!\n",
    "# params = {'kernel':'linear'}\n",
    "# score = stratifiedKFoldVal(train, YTrain, classifyMultiClassSVMClassifier, params)\n",
    "# print score\n",
    "# selectKernelScores.append(score)\n",
    "selectKernelScores.append(0)\n",
    "\n",
    "\n",
    "\n",
    "print selectRandomForestScores\n",
    "print selectKernelScores\n",
    "print selectNeighbourScores"
   ]
  },
  {
   "cell_type": "code",
   "execution_count": 37,
   "metadata": {
    "collapsed": false
   },
   "outputs": [
    {
     "data": {
      "image/png": "[encoded data removed]",
      "text/plain": [
       "<matplotlib.figure.Figure at 0x7fc596be8ed0>"
      ]
     },
     "metadata": {},
     "output_type": "display_data"
    }
   ],
   "source": [
    "#Plotting the results\n",
    "import matplotlib.pyplot as plt\n",
    "%matplotlib inline\n",
    "plt.plot(selectRandomForestScores, label = \"Random Forest Classifier\")\n",
    "plt.plot(selectKernelScores, label = \"Multiclass Linear SVM Classifier\")\n",
    "plt.plot(selectNeighbourScores, label = \"KNN Classifier\")\n",
    "\n",
    "labels = ['Bag of Words', 'TF-IDF', 'State Transitions', 'Stacked Features 1 & 3']\n",
    "\n",
    "# You can specify a rotation for the tick labels in degrees or with keywords.\n",
    "plt.xticks(np.arange(len(labels)), labels, rotation='vertical')\n",
    "\n",
    "plt.ylabel('Scores')\n",
    "plt.xlabel('Feature Encoding used')\n",
    "# Place a legend to the right of this smaller figure.\n",
    "plt.legend(bbox_to_anchor=(1.05, 1), loc=2, borderaxespad=0.)\n",
    "plt.show()"
   ]
  },
  {
   "cell_type": "markdown",
   "metadata": {},
   "source": [
    "## Final evaluation results on Kaggle"
   ]
  },
  {
   "cell_type": "markdown",
   "metadata": {},
   "source": [
    "### Bar graph depicting Public vs Private Categorization Accuracy Scores on the different Models."
   ]
  },
  {
   "cell_type": "code",
   "execution_count": 2,
   "metadata": {
    "collapsed": false
   },
   "outputs": [
    {
     "data": {
      "image/png": "[encoded data removed]",
      "text/plain": [
       "<matplotlib.figure.Figure at 0x7f86d6150b10>"
      ]
     },
     "metadata": {},
     "output_type": "display_data"
    }
   ],
   "source": [
    "import numpy as np\n",
    "import matplotlib.pyplot as plt\n",
    "%matplotlib inline\n",
    "N = 8\n",
    "publicScore = (80.453, 75.637, 79.887, 80.737, 81.586, 80.170, 80.170, 79.887)\n",
    "privateScore = (84.136, 80.170, 83.569, 83.003, 83.286, 83.003, 83.003, 83.569)\n",
    "modelNames = ('RF(50T, Entropy)+Bag of Words', 'RF(150T, Entropy)+TF-IDF', 'RF(50T, Entropy) + State Transition', \n",
    "              'KNN(5) +Bag of Words', 'KNN(5) + TF-IDF', 'KNN(5) + State Transition',\n",
    "              'Stack: KNN(5) + ST + BoW', 'Stack: RF(50T, Entropy) + ST + BoW')\n",
    "\n",
    "ind = np.arange(N)  # the x locations for the groups\n",
    "width = 0.35       # the width of the bars\n",
    "\n",
    "fig, ax = plt.subplots()\n",
    "rects1 = ax.bar(ind, publicScore, width, color='m')\n",
    "\n",
    "rects2 = ax.bar(ind + width, privateScore, width, color='c')\n",
    "\n",
    "# add some text for labels, title and axes ticks\n",
    "ax.set_ylabel('Scores')\n",
    "ax.set_title('Evaluations of submissions using Categorization Accuracy.')\n",
    "ax.set_xticks(ind + width)\n",
    "ax.set_xticklabels(modelNames,  rotation='vertical')\n",
    "ax.set_ylim(75,85)\n",
    "\n",
    "# def autolabel(rects):\n",
    "#     # attach some text labels\n",
    "#     for rect in rects:\n",
    "#         height = rect.get_height()\n",
    "#         ax.text(rect.get_x() + rect.get_width()/2., 1.05*height,\n",
    "#                 '%d' % int(height),\n",
    "#                 ha='center', va='bottom')\n",
    "\n",
    "# autolabel(rects1)\n",
    "# autolabel(rects2)\n",
    "\n",
    "# Place a legend to the right of this smaller figure.\n",
    "ax.legend((rects1[0], rects2[0]), ('Public Scores', 'Private Scores'), bbox_to_anchor=(1.05, 1), loc=2, borderaxespad=0.)\n",
    "\n",
    "plt.show()"
   ]
  },
  {
   "cell_type": "markdown",
   "metadata": {},
   "source": [
    "### Hence we conclude that the best model is kNN using TF-IDF as features !"
   ]
  }
 ],
 "metadata": {
  "kernelspec": {
   "display_name": "Python 2",
   "language": "python",
   "name": "python2"
  },
  "language_info": {
   "codemirror_mode": {
    "name": "ipython",
    "version": 2
   },
   "file_extension": ".py",
   "mimetype": "text/x-python",
   "name": "python",
   "nbconvert_exporter": "python",
   "pygments_lexer": "ipython2",
   "version": "2.7.10"
  }
 },
 "nbformat": 4,
 "nbformat_minor": 0
}
