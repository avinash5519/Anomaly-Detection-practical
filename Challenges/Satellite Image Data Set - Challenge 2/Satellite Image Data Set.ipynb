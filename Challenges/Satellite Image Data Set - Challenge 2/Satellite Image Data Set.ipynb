{
 "cells": [
  {
   "cell_type": "markdown",
   "metadata": {},
   "source": [
    "# Satellite Image Data Set"
   ]
  },
  {
   "cell_type": "markdown",
   "metadata": {},
   "source": [
    "## Data Preprocessing\n",
    "Missing Values - Replace by mean, Replace by Neighbourhood, Row-wise, Row Spectral Wise\n",
    "Use Multi-class SVM with different kernels, Multi Class Learning\n",
    "Stratified K-Fold validation for equal number of classes in each fold\n",
    "https://archive.ics.uci.edu/ml/datasets/Statlog+(Landsat+Satellite)"
   ]
  },
  {
   "cell_type": "markdown",
   "metadata": {},
   "source": [
    "## Read the input data"
   ]
  },
  {
   "cell_type": "code",
   "execution_count": 1,
   "metadata": {
    "collapsed": false
   },
   "outputs": [],
   "source": [
    "import numpy as np\n",
    "\n",
    "def readInputFiles():\n",
    "    '''Read the input file and rearrange the data'''\n",
    "    rawTrainData = np.loadtxt('sat_noisy.trn',delimiter=',')\n",
    "    rawTestData = np.loadtxt('sat-test.csv.dat',delimiter=',')\n",
    "    # print rawTrainData.shape\n",
    "    # print rawTestData.shape\n",
    "    # print rawTrainData[0]\n",
    "    YTrain = rawTrainData[:,-1]\n",
    "    XTrain = rawTrainData[:,:-1]\n",
    "    XTrainRearranged = rearrangeInputData(XTrain,XTrain.shape[0])\n",
    "    XTestRearranged = rearrangeInputData(rawTestData,rawTestData.shape[0])\n",
    "    # print YTrain.shape\n",
    "    # print XTrain.shape\n",
    "    return XTrainRearranged, YTrain, XTestRearranged\n",
    " "
   ]
  },
  {
   "cell_type": "code",
   "execution_count": 2,
   "metadata": {
    "collapsed": false
   },
   "outputs": [],
   "source": [
    "def rearrangeInputData(XTemp,size):\n",
    "    '''Rearrange the input data'''\n",
    "    XMod = []\n",
    "    for i in xrange(size):\n",
    "        X = XTemp[i]\n",
    "        temp = np.hsplit(X,9)\n",
    "        X1=[]\n",
    "        X2=[]\n",
    "        X3=[]\n",
    "        X4=[]\n",
    "        for i in xrange(9):\n",
    "            X1.append(temp[i][0])\n",
    "            X2.append(temp[i][1])\n",
    "            X3.append(temp[i][2])\n",
    "            X4.append(temp[i][3])\n",
    "        X = np.hstack((X1,X2,X3,X4))\n",
    "        XMod.append(X)\n",
    "    return np.array(XMod)\n"
   ]
  },
  {
   "cell_type": "markdown",
   "metadata": {},
   "source": [
    "## Handle Missing Values (NaN)"
   ]
  },
  {
   "cell_type": "code",
   "execution_count": 3,
   "metadata": {
    "collapsed": false
   },
   "outputs": [],
   "source": [
    "# Replacing NaN\n",
    "# Replace by zeros, column mean, column median, row mean, row median, row spectral mean, row spectral median,\n",
    "# column minimum, column maximum, row minimum, row maximum, middle value, row spectral minimum, \n",
    "# row spectral maximum, row mode, column mode, minimum, maximum and interpolated value\n",
    "import  scipy.stats as stats\n",
    "import numpy.ma as ma\n",
    "from collections import Counter\n",
    "\n",
    "def returnSecondMode(X,index):\n",
    "    '''Return the mode without including NaN'''\n",
    "#     print index, X[index]\n",
    "    count = Counter(X[index])\n",
    "#     print index,count,count.most_common(1)[-1][0]\n",
    "    return count.most_common(1)[-1][0]\n",
    "\n",
    "def replaceMissingValues(X, replacement):\n",
    "    '''Replacing NaN Values'''\n",
    "    func = None\n",
    "    if replacement == 'colmean':\n",
    "        func = stats.nanmean(X,axis=0)\n",
    "    elif replacement == 'colmedian':\n",
    "        func = stats.nanmedian(X,axis=0)\n",
    "    elif replacement =='colmode':\n",
    "        XMask = ma.masked_where(X == np.nan, X)\n",
    "        func = stats.mstats.mode(XMask,axis=0)[0]\n",
    "    elif replacement =='zeros':\n",
    "        pass\n",
    "    elif replacement =='rowmean':\n",
    "        func = stats.nanmean(X,axis=1)\n",
    "    elif replacement =='rowmedian':\n",
    "        func = stats.nanmedian(X,axis=1)\n",
    "    elif replacement =='rowmode':\n",
    "        XMask = ma.masked_where(X == np.nan, X)\n",
    "#         print np.isnan(XMask)[np.isnan(XMask)==True]\n",
    "        func = stats.mstats.mode(XMask,axis=1)[0]\n",
    "        nanModeIndices=np.where(np.isnan(XMask))\n",
    "#         print nanModeIndices[0],nanModeIndices[1]\n",
    "        for nanModeInd in nanModeIndices[0]:\n",
    "            func[nanModeInd] = returnSecondMode(X,nanModeInd)\n",
    "#         func = []\n",
    "#         for i in xrange(X.shape[0]):\n",
    "#             func.append(0)\n",
    "#         for nanModeInd in xrange(X.shape[0]):\n",
    "#             print nanModeInd\n",
    "#         func = np.array(func)\n",
    "#         func = func.reshape(4435,1)\n",
    "#         print func.reshape(4435,1)\n",
    "#         print func, func.shape\n",
    "#         print np.where(np.isnan(func))    \n",
    "    elif replacement =='rowspectralmean':\n",
    "        XSpectrum = np.hsplit(X,4)\n",
    "        XSpectrum1 = replaceMissingValues(XSpectrum[0], \"rowmean\")\n",
    "        XSpectrum2 = replaceMissingValues(XSpectrum[1], \"rowmean\")\n",
    "        XSpectrum3 = replaceMissingValues(XSpectrum[2], \"rowmean\")\n",
    "        XSpectrum4 = replaceMissingValues(XSpectrum[3], \"rowmean\")\n",
    "        func = np.hstack((XSpectrum1,XSpectrum2,XSpectrum3,XSpectrum4))\n",
    "    elif replacement =='rowspectralmedian':\n",
    "        XSpectrum = np.hsplit(X,4)\n",
    "        XSpectrum1 = replaceMissingValues(XSpectrum[0], \"rowmedian\")\n",
    "        XSpectrum2 = replaceMissingValues(XSpectrum[1], \"rowmedian\")\n",
    "        XSpectrum3 = replaceMissingValues(XSpectrum[2], \"rowmedian\")\n",
    "        XSpectrum4 = replaceMissingValues(XSpectrum[3], \"rowmedian\")\n",
    "        func = np.hstack((XSpectrum1,XSpectrum2,XSpectrum3,XSpectrum4))\n",
    "    elif replacement =='rowspectralmin':\n",
    "        XSpectrum = np.hsplit(X,4)\n",
    "        XSpectrum1 = replaceMissingValues(XSpectrum[0], \"rowmin\")\n",
    "        XSpectrum2 = replaceMissingValues(XSpectrum[1], \"rowmin\")\n",
    "        XSpectrum3 = replaceMissingValues(XSpectrum[2], \"rowmin\")\n",
    "        XSpectrum4 = replaceMissingValues(XSpectrum[3], \"rowmin\")\n",
    "        func = np.hstack((XSpectrum1,XSpectrum2,XSpectrum3,XSpectrum4))\n",
    "    elif replacement =='rowspectralmax':\n",
    "        XSpectrum = np.hsplit(X,4)\n",
    "        XSpectrum1 = replaceMissingValues(XSpectrum[0], \"rowmax\")\n",
    "        XSpectrum2 = replaceMissingValues(XSpectrum[1], \"rowmax\")\n",
    "        XSpectrum3 = replaceMissingValues(XSpectrum[2], \"rowmax\")\n",
    "        XSpectrum4 = replaceMissingValues(XSpectrum[3], \"rowmax\")\n",
    "        func = np.hstack((XSpectrum1,XSpectrum2,XSpectrum3,XSpectrum4))\n",
    "    elif replacement == 'colmin':\n",
    "        func = np.nanmin(X,axis=0)\n",
    "    elif replacement =='colmax':\n",
    "        func = np.nanmax(X,axis=0)\n",
    "    elif replacement == 'rowmin':\n",
    "        func = np.nanmin(X,axis=1)\n",
    "    elif replacement =='rowmax':\n",
    "        func = np.nanmax(X,axis=1)\n",
    "    elif replacement =='rowspectralmode':\n",
    "        XSpectrum = np.hsplit(X,4)\n",
    "        XSpectrum1 = replaceMissingValues(XSpectrum[0], \"rowmode\")\n",
    "        XSpectrum2 = replaceMissingValues(XSpectrum[1], \"rowmode\")\n",
    "        XSpectrum3 = replaceMissingValues(XSpectrum[2], \"rowmode\")\n",
    "        XSpectrum4 = replaceMissingValues(XSpectrum[3], \"rowmode\")\n",
    "        func = np.hstack((XSpectrum1,XSpectrum2,XSpectrum3,XSpectrum4))\n",
    "    \n",
    "    inds = np.where(np.isnan(X))\n",
    "#     print len(inds[0])==len(inds[1])\n",
    "#     print inds   \n",
    "#     print \"X before replace\", X[4434][32]\n",
    "    \n",
    "    if replacement == 'colmean' or replacement == 'colmedian' or replacement == 'colmin' or replacement == 'colmax':\n",
    "        X[inds[0],inds[1]] = func[inds[1]]\n",
    "    elif replacement == 'rowmean' or replacement == 'rowmedian' or replacement =='rowmin' or replacement =='rowmax':\n",
    "        X[inds[0],inds[1]] = func[inds[0]]\n",
    "    elif replacement =='zeros':\n",
    "        X[inds[0],inds[1]]= 0\n",
    "    elif replacement =='mid':\n",
    "        X[inds[0],inds[1]]= 127\n",
    "    elif replacement == 'colmode':\n",
    "        X[inds[0],inds[1]] = func[0,inds[1]]\n",
    "    elif replacement == 'rowmode':\n",
    "        X[inds[0],inds[1]] = func[inds[0],0]\n",
    "    elif replacement =='interpolate':\n",
    "        mask = np.isnan(X)\n",
    "        X[mask] = np.interp(np.flatnonzero(mask), np.flatnonzero(~mask), X[~mask])\n",
    "          \n",
    "#     print \"X after replace\", X[4434][32]    \n",
    "#     print \"inds\", (inds)\n",
    "#     print \"func\", repr(func)\n",
    "#     print X\n",
    "    assert(not(np.isnan(X).any()))\n",
    "    assert(np.isfinite(X.all()))\n",
    "    return X"
   ]
  },
  {
   "cell_type": "code",
   "execution_count": 4,
   "metadata": {
    "collapsed": false
   },
   "outputs": [],
   "source": [
    "#Multi Class SVM\n",
    "from sklearn import svm\n",
    "from sklearn.svm import NuSVC\n",
    "def classifyMultiClassSVMClassifier(XTrain, XTest, YTrain, YTest):\n",
    "    YPred = svm.SVC(kernel='linear').fit(XTrain, YTrain).predict(XTest)\n",
    "    diff = YPred - YTest\n",
    "    score = diff[diff == 0].size\n",
    "    return (100.0 * score)/(YPred.size)"
   ]
  },
  {
   "cell_type": "code",
   "execution_count": 5,
   "metadata": {
    "collapsed": true
   },
   "outputs": [],
   "source": [
    "#One Vs Rest SVM Classifier\n",
    "from sklearn.multiclass import OneVsRestClassifier\n",
    "from sklearn.svm import LinearSVC\n",
    "def classifyOneVsRestClassifier(XTrain, XTest, YTrain, YTest):\n",
    "    YPred = OneVsRestClassifier(LinearSVC(random_state=0)).fit(XTrain, YTrain).predict(XTest)\n",
    "    diff = YPred - YTest\n",
    "    score = diff[diff == 0].size\n",
    "    return (100.0 * score)/(YPred.size)"
   ]
  },
  {
   "cell_type": "code",
   "execution_count": 6,
   "metadata": {
    "collapsed": true
   },
   "outputs": [],
   "source": [
    "#One Vs One SVM Classifier\n",
    "from sklearn.multiclass import OneVsOneClassifier\n",
    "from sklearn.svm import LinearSVC\n",
    "def classifyOneVsOneClassifier(XTrain, XTest, YTrain, YTest):\n",
    "    YPred = OneVsOneClassifier(LinearSVC(random_state=0)).fit(XTrain, YTrain).predict(XTest)\n",
    "    diff = YPred - YTest\n",
    "    score = diff[diff == 0].size\n",
    "    return (100.0 * score)/(YPred.size)"
   ]
  },
  {
   "cell_type": "code",
   "execution_count": 7,
   "metadata": {
    "collapsed": true
   },
   "outputs": [],
   "source": [
    "#Output Code SVM Classifier\n",
    "from sklearn.multiclass import OutputCodeClassifier\n",
    "from sklearn.svm import LinearSVC\n",
    "def classifyOutputCodeClassifier(XTrain, XTest, YTrain, YTest):\n",
    "    clf = OutputCodeClassifier(LinearSVC(random_state=0),code_size=2, random_state=0)\n",
    "    YPred = clf.fit(XTrain, YTrain).predict(XTest)\n",
    "    diff = YPred - YTest\n",
    "    score = diff[diff == 0].size\n",
    "    return (100.0 * score)/(YPred.size)"
   ]
  },
  {
   "cell_type": "code",
   "execution_count": 8,
   "metadata": {
    "collapsed": true
   },
   "outputs": [],
   "source": [
    "#Random Forest Classifier\n",
    "from sklearn.ensemble import RandomForestClassifier\n",
    "def classifyRandomForestClassifier(XTrain, XTest, YTrain, YTest):\n",
    "    clf = RandomForestClassifier(n_estimators=10)\n",
    "    clf.fit(XTrain, YTrain)\n",
    "    YPred = clf.predict(XTest)\n",
    "    diff = YPred - YTest\n",
    "    score = diff[diff == 0].size\n",
    "    return (100.0 * score)/(YPred.size)"
   ]
  },
  {
   "cell_type": "code",
   "execution_count": 9,
   "metadata": {
    "collapsed": true
   },
   "outputs": [],
   "source": [
    "#Gaussian Naive Bayes Classifier\n",
    "from sklearn.naive_bayes import GaussianNB\n",
    "def classifyGaussianNaiveBayesClassifier(XTrain, XTest, YTrain, YTest):\n",
    "    gnb = GaussianNB()\n",
    "    YPred = gnb.fit(XTrain, YTrain).predict(XTest)\n",
    "    diff = YPred - YTest\n",
    "    score = diff[diff == 0].size\n",
    "    return (100.0 * score)/(YPred.size)"
   ]
  },
  {
   "cell_type": "code",
   "execution_count": 10,
   "metadata": {
    "collapsed": true
   },
   "outputs": [],
   "source": [
    "#Bernoulli Naive Bayes Classifier\n",
    "from sklearn.naive_bayes import BernoulliNB\n",
    "def classifyBernoulliNaiveBayesClassifier(XTrain, XTest, YTrain, YTest):\n",
    "    bnb = BernoulliNB()\n",
    "    YPred = bnb.fit(XTrain, YTrain).predict(XTest)\n",
    "    diff = YPred - YTest\n",
    "    score = diff[diff == 0].size\n",
    "    return (100.0 * score)/(YPred.size)"
   ]
  },
  {
   "cell_type": "code",
   "execution_count": 11,
   "metadata": {
    "collapsed": true
   },
   "outputs": [],
   "source": [
    "#Multinomial Naive Bayes Classifier\n",
    "from sklearn.naive_bayes import MultinomialNB\n",
    "def classifyMultinomialNaiveBayesClassifier(XTrain, XTest, YTrain, YTest):\n",
    "    mnb = MultinomialNB()\n",
    "    YPred = mnb.fit(XTrain, YTrain).predict(XTest)\n",
    "    diff = YPred - YTest\n",
    "    score = diff[diff == 0].size\n",
    "    return (100.0 * score)/(YPred.size)"
   ]
  },
  {
   "cell_type": "code",
   "execution_count": 12,
   "metadata": {
    "collapsed": true
   },
   "outputs": [],
   "source": [
    "#K Nearest Neighbours Classifier\n",
    "from sklearn.neighbors import KNeighborsClassifier\n",
    "def classifyKNNClassifier(XTrain, XTest, YTrain, YTest):\n",
    "    neigh = KNeighborsClassifier(n_neighbors=3)\n",
    "    YPred = neigh.fit(XTrain, YTrain).predict(XTest)\n",
    "    diff = YPred - YTest\n",
    "    score = diff[diff == 0].size\n",
    "    return (100.0 * score)/(YPred.size)"
   ]
  },
  {
   "cell_type": "code",
   "execution_count": 13,
   "metadata": {
    "collapsed": false
   },
   "outputs": [],
   "source": [
    "#K Fold Cross Validation\n",
    "from sklearn.cross_validation import KFold\n",
    "def kFoldCrossVal(XTrain, YTrain, classify):\n",
    "    n_folds=5\n",
    "    kf = KFold(4435, n_folds)\n",
    "    score = 0.0\n",
    "    for train, test in kf:\n",
    "        score += classify(XTrain[train,:], XTrain[test,:], YTrain[train], YTrain[test])\n",
    "    return score/n_folds"
   ]
  },
  {
   "cell_type": "code",
   "execution_count": 14,
   "metadata": {
    "collapsed": true
   },
   "outputs": [],
   "source": [
    "#Stratified K Fold Cross Validation\n",
    "from sklearn.cross_validation import StratifiedKFold\n",
    "def stratifiedKFoldVal(XTrain, YTrain, classify):\n",
    "    n_folds = 5\n",
    "    score = 0.0\n",
    "    skf = StratifiedKFold(YTrain, n_folds)\n",
    "    for train_index, test_index in skf:\n",
    "        X_train, X_test = XTrain[train_index], XTrain[test_index]\n",
    "        y_train, y_test = YTrain[train_index], YTrain[test_index]\n",
    "        score += classify(X_train, X_test,  y_train, y_test)\n",
    "    return score/n_folds"
   ]
  },
  {
   "cell_type": "code",
   "execution_count": 15,
   "metadata": {
    "collapsed": false
   },
   "outputs": [],
   "source": [
    "#Write Output Labels to File\n",
    "def writePrdictedLabelFile(YPred):\n",
    "    f = open(\"Predictions.csv\",\"w\")\n",
    "    f.write(\"Id,Prediction\" + \"\\n\")\n",
    "    for i in xrange(len(YPred)):\n",
    "        f.write(str(i+1) + \",\" + str(int(YPred[i]))+ \"\\n\")\n",
    "    f.close()"
   ]
  },
  {
   "cell_type": "code",
   "execution_count": 16,
   "metadata": {
    "collapsed": false
   },
   "outputs": [],
   "source": [
    "scoreOneVsRestClassifier = []\n",
    "scoreOneVsOneClassifier = []\n",
    "scoreOutputCodeClassifier = []\n",
    "scoreRandomForestClassifier = []\n",
    "scoreGaussianNaiveBayesClassifier = []\n",
    "scoreBernoulliNaiveBayesClassifier = []\n",
    "scoreMultinomialNaiveBayesClassifier = []\n",
    "scoreMultiClassSVMClassifier = []\n",
    "scoreKNNClassifier = []"
   ]
  },
  {
   "cell_type": "code",
   "execution_count": 17,
   "metadata": {
    "collapsed": true
   },
   "outputs": [],
   "source": [
    "#Compute Accuracies for K-Fold Cross Validation\n",
    "def PreProcessClassificationScores(replacement):\n",
    "    # Replace missing values (NaN) with replacement\n",
    "    XTrain, YTrain, rawTestData = readInputFiles()\n",
    "    XTrain = replaceMissingValues(XTrain, replacement)\n",
    "    XTest = replaceMissingValues(rawTestData, replacement)\n",
    "    #score = kFoldCrossVal(XTrain, YTrain, classifyOneVsRestClassifier)\n",
    "    #print score\n",
    "    score1 = kFoldCrossVal(XTrain, YTrain, classifyOneVsOneClassifier)\n",
    "    print score1\n",
    "    #score2 = kFoldCrossVal(XTrain, YTrain, classifyOutputCodeClassifier)\n",
    "    #print score2\n",
    "    score3 = kFoldCrossVal(XTrain, YTrain, classifyRandomForestClassifier)\n",
    "    print score3\n",
    "    score4 = kFoldCrossVal(XTrain, YTrain, classifyGaussianNaiveBayesClassifier)\n",
    "    print score4\n",
    "    score5 = kFoldCrossVal(XTrain, YTrain, classifyBernoulliNaiveBayesClassifier)\n",
    "    print score5\n",
    "    score6 = kFoldCrossVal(XTrain, YTrain, classifyMultinomialNaiveBayesClassifier)\n",
    "    print score6\n",
    "#     score7 = kFoldCrossVal(XTrain, YTrain, classifyMultiClassSVMClassifier)\n",
    "#     print score7\n",
    "    score8 = kFoldCrossVal(XTrain, YTrain, classifyKNNClassifier)\n",
    "    print score8\n",
    "#     scoreOneVsRestClassifier.append(score)\n",
    "    scoreOneVsOneClassifier.append(score1)\n",
    "#     scoreOutputCodeClassifier.append(score2)\n",
    "    scoreRandomForestClassifier.append(score3)\n",
    "    scoreGaussianNaiveBayesClassifier.append(score4)\n",
    "    scoreBernoulliNaiveBayesClassifier.append(score5)\n",
    "    scoreMultinomialNaiveBayesClassifier.append(score6)\n",
    "    scoreMultiClassSVMClassifier.append(score7)\n",
    "    scoreMultiClassSVMClassifier.append(score8)"
   ]
  },
  {
   "cell_type": "code",
   "execution_count": 18,
   "metadata": {
    "collapsed": true
   },
   "outputs": [],
   "source": [
    "#Compute Accuracies for Stratified K-Fold Cross Validation\n",
    "def PreProcessStratifiedClassificationScores(replacement):\n",
    "    # Replace missing values (NaN) with replacement\n",
    "    XTrain, YTrain, rawTestData = readInputFiles()\n",
    "    XTrain = replaceMissingValues(XTrain, replacement)\n",
    "    XTest = replaceMissingValues(rawTestData, replacement)\n",
    "#     score = stratifiedKFoldVal(XTrain, YTrain, classifyOneVsRestClassifier)\n",
    "#     print score\n",
    "    score1 = stratifiedKFoldVal(XTrain, YTrain, classifyOneVsOneClassifier)\n",
    "    print score1\n",
    "#     score2 = stratifiedKFoldVal(XTrain, YTrain, classifyOutputCodeClassifier)\n",
    "#     print score2\n",
    "    score3 = stratifiedKFoldVal(XTrain, YTrain, classifyRandomForestClassifier)\n",
    "    print score3\n",
    "    score4 = stratifiedKFoldVal(XTrain, YTrain, classifyGaussianNaiveBayesClassifier)\n",
    "    print score4\n",
    "    score5 = stratifiedKFoldVal(XTrain, YTrain, classifyBernoulliNaiveBayesClassifier)\n",
    "    print score5\n",
    "    score6 = stratifiedKFoldVal(XTrain, YTrain, classifyMultinomialNaiveBayesClassifier)\n",
    "    print score6\n",
    "    score7 = stratifiedKFoldVal(XTrain, YTrain, classifyMultiClassSVMClassifier)\n",
    "    print score7\n",
    "    score8 = stratifiedKFoldVal(XTrain, YTrain, classifyKNNClassifier)\n",
    "    print score8\n",
    "#     scoreOneVsRestClassifier.append(score)\n",
    "    scoreOneVsOneClassifier.append(score1)\n",
    "#     scoreOutputCodeClassifier.append(score2)\n",
    "    scoreRandomForestClassifier.append(score3)\n",
    "    scoreGaussianNaiveBayesClassifier.append(score4)\n",
    "    scoreBernoulliNaiveBayesClassifier.append(score5)\n",
    "    scoreMultinomialNaiveBayesClassifier.append(score6)\n",
    "    scoreMultiClassSVMClassifier.append(score7)\n",
    "    scoreKNNClassifier.append(score8)"
   ]
  },
  {
   "cell_type": "code",
   "execution_count": 19,
   "metadata": {
    "collapsed": false
   },
   "outputs": [],
   "source": [
    "# Replace missing values (NaN) with Zero\n",
    "# Multi-Class SVM does not converge\n",
    "# PreProcessClassificationScores('zeros')\n",
    "# PreProcessStratifiedClassificationScores('zeros')"
   ]
  },
  {
   "cell_type": "code",
   "execution_count": 20,
   "metadata": {
    "collapsed": false
   },
   "outputs": [
    {
     "name": "stdout",
     "output_type": "stream",
     "text": [
      "61.5705479223\n",
      "83.3334623417\n",
      "77.9388284902\n",
      "24.1713493608\n",
      "69.8046482456\n",
      "81.05560433\n",
      "81.3505362306\n"
     ]
    }
   ],
   "source": [
    "# Replace missing values (NaN) with mean values for each column\n",
    "# PreProcessClassificationScores('colmean')\n",
    "PreProcessStratifiedClassificationScores('colmean')"
   ]
  },
  {
   "cell_type": "code",
   "execution_count": 21,
   "metadata": {
    "collapsed": false
   },
   "outputs": [
    {
     "name": "stdout",
     "output_type": "stream",
     "text": [
      "66.105640029\n",
      "83.9190728016\n",
      "77.6905210903\n",
      "24.1713493608\n",
      "68.4752339754\n",
      "80.8075004085\n",
      "81.2829438442\n"
     ]
    }
   ],
   "source": [
    "# Replace missing values (NaN) with median values for each column\n",
    "# PreProcessClassificationScores('colmedian')\n",
    "PreProcessStratifiedClassificationScores('colmedian')"
   ]
  },
  {
   "cell_type": "code",
   "execution_count": 22,
   "metadata": {
    "collapsed": false
   },
   "outputs": [
    {
     "name": "stdout",
     "output_type": "stream",
     "text": [
      "69.1764097803\n",
      "83.9871495265\n",
      "75.9324145594\n",
      "24.1713493608\n",
      "70.5929382455\n",
      "81.0552984784\n",
      "79.9285641572\n"
     ]
    }
   ],
   "source": [
    "# Replace missing values (NaN) with mean values for each row\n",
    "# PreProcessClassificationScores('rowmean')\n",
    "PreProcessStratifiedClassificationScores('rowmean')"
   ]
  },
  {
   "cell_type": "code",
   "execution_count": 23,
   "metadata": {
    "collapsed": false
   },
   "outputs": [
    {
     "name": "stdout",
     "output_type": "stream",
     "text": [
      "65.1900929681\n",
      "83.1520597415\n",
      "75.8199039739\n",
      "24.1713493608\n",
      "69.916626858\n",
      "80.5594209029\n",
      "79.7705002308\n"
     ]
    }
   ],
   "source": [
    "# Replace missing values (NaN) with median values for each row\n",
    "# PreProcessClassificationScores('rowmedian')\n",
    "PreProcessStratifiedClassificationScores('rowmedian')"
   ]
  },
  {
   "cell_type": "code",
   "execution_count": 24,
   "metadata": {
    "collapsed": false
   },
   "outputs": [
    {
     "name": "stdout",
     "output_type": "stream",
     "text": [
      "67.4506561429\n",
      "84.3471797323\n",
      "77.961580859\n",
      "24.1713493608\n",
      "75.9585674327\n",
      "82.204812223\n",
      "83.9212093883\n"
     ]
    }
   ],
   "source": [
    "# Replace missing values (NaN) with row spectral mean\n",
    "# PreProcessClassificationScores('rowspectralmean')\n",
    "PreProcessStratifiedClassificationScores('rowspectralmean')"
   ]
  },
  {
   "cell_type": "code",
   "execution_count": 25,
   "metadata": {
    "collapsed": false
   },
   "outputs": [
    {
     "name": "stdout",
     "output_type": "stream",
     "text": [
      "67.2568383672\n",
      "83.9188433566\n",
      "78.1190351518\n",
      "24.1713493608\n",
      "76.2515130338\n",
      "82.1598179616\n",
      "84.2364744336\n"
     ]
    }
   ],
   "source": [
    "# Replace missing values (NaN) with row spectral median\n",
    "# PreProcessClassificationScores('rowspectralmedian')\n",
    "PreProcessStratifiedClassificationScores('rowspectralmedian')"
   ]
  },
  {
   "cell_type": "code",
   "execution_count": 26,
   "metadata": {
    "collapsed": false
   },
   "outputs": [],
   "source": [
    "# Replace missing values (NaN) with min value for each row\n",
    "# Multi-Class SVM does not converge\n",
    "# PreProcessClassificationScores('colmin')\n",
    "# PreProcessStratifiedClassificationScores('colmin')"
   ]
  },
  {
   "cell_type": "code",
   "execution_count": 27,
   "metadata": {
    "collapsed": false
   },
   "outputs": [],
   "source": [
    "# Replace missing values (NaN) with min value for each row\n",
    "# Multi-Class SVM does not converge\n",
    "# PreProcessClassificationScores('colmax')\n",
    "# PreProcessStratifiedClassificationScores('colmax')"
   ]
  },
  {
   "cell_type": "code",
   "execution_count": 28,
   "metadata": {
    "collapsed": false
   },
   "outputs": [],
   "source": [
    "# Replace missing values (NaN) with min value for each row\n",
    "# PreProcessClassificationScores('rowmin')\n",
    "# Multi-Class SVM does not converge\n",
    "# PreProcessStratifiedClassificationScores('rowmin')"
   ]
  },
  {
   "cell_type": "code",
   "execution_count": 29,
   "metadata": {
    "collapsed": false
   },
   "outputs": [],
   "source": [
    "# Replace missing values (NaN) with max value for each row\n",
    "# Multi-Class SVM does not converge\n",
    "# PreProcessClassificationScores('rowmax')\n",
    "# PreProcessStratifiedClassificationScores('rowmax')"
   ]
  },
  {
   "cell_type": "code",
   "execution_count": 30,
   "metadata": {
    "collapsed": false
   },
   "outputs": [],
   "source": [
    "# Replace missing values (NaN) with 127\n",
    "# Multi-Class SVM does not converge\n",
    "# PreProcessClassificationScores('mid')\n",
    "# PreProcessStratifiedClassificationScores('mid')"
   ]
  },
  {
   "cell_type": "code",
   "execution_count": 31,
   "metadata": {
    "collapsed": false
   },
   "outputs": [
    {
     "name": "stdout",
     "output_type": "stream",
     "text": [
      "63.9642431278\n",
      "84.4380320947\n",
      "78.0061934399\n",
      "24.1713493608\n",
      "75.6427439945\n",
      "81.9567856255\n",
      "82.7249705506\n"
     ]
    }
   ],
   "source": [
    "# Replace missing values (NaN) with row spectral min\n",
    "# PreProcessClassificationScores('rowspectralmin')\n",
    "PreProcessStratifiedClassificationScores('rowspectralmin')"
   ]
  },
  {
   "cell_type": "code",
   "execution_count": 32,
   "metadata": {
    "collapsed": false
   },
   "outputs": [
    {
     "name": "stdout",
     "output_type": "stream",
     "text": [
      "67.7521286551\n",
      "83.6479636273\n",
      "77.3975508425\n",
      "24.1713493608\n",
      "75.4857714595\n",
      "81.3039346544\n",
      "83.1555693252\n"
     ]
    }
   ],
   "source": [
    "# Replace missing values (NaN) with row spectral max\n",
    "# PreProcessClassificationScores('rowspectralmax')\n",
    "PreProcessStratifiedClassificationScores('rowspectralmax')"
   ]
  },
  {
   "cell_type": "code",
   "execution_count": 33,
   "metadata": {
    "collapsed": false,
    "scrolled": true
   },
   "outputs": [
    {
     "name": "stdout",
     "output_type": "stream",
     "text": [
      "68.4286662656\n",
      "82.2045373818\n",
      "75.0763543096\n",
      "24.1713493608\n",
      "70.2093433043\n",
      "80.1753926932\n",
      "78.2154027065\n"
     ]
    }
   ],
   "source": [
    "# Replace missing values (NaN) with row mode\n",
    "# PreProcessClassificationScores('rowmode')\n",
    "PreProcessStratifiedClassificationScores('rowmode')"
   ]
  },
  {
   "cell_type": "code",
   "execution_count": 34,
   "metadata": {
    "collapsed": false
   },
   "outputs": [
    {
     "name": "stdout",
     "output_type": "stream",
     "text": [
      "66.294668622\n",
      "83.31043118\n",
      "77.6234620492\n",
      "24.1713493608\n",
      "67.9109258529\n",
      "80.7852070431\n",
      "80.3580451717\n"
     ]
    }
   ],
   "source": [
    "# Replace missing values (NaN) with column mode\n",
    "# PreProcessClassificationScores('colmode')\n",
    "PreProcessStratifiedClassificationScores('colmode')"
   ]
  },
  {
   "cell_type": "code",
   "execution_count": 35,
   "metadata": {
    "collapsed": false
   },
   "outputs": [],
   "source": [
    "# Replace missing values (NaN) with row spectral mode\n",
    "# PreProcessClassificationScores('rowspectralmode')\n",
    "# PreProcessStratifiedClassificationScores('rowspectralmode')"
   ]
  },
  {
   "cell_type": "code",
   "execution_count": 36,
   "metadata": {
    "collapsed": false
   },
   "outputs": [
    {
     "name": "stdout",
     "output_type": "stream",
     "text": [
      "69.6402986485\n",
      "84.8436429258\n",
      "77.7135016996\n",
      "24.1713493608\n",
      "75.2373118224\n",
      "82.0243274554\n",
      "83.243931506\n"
     ]
    }
   ],
   "source": [
    "# Replace missing values (NaN) with Piecewise Linear Interpolated Values\n",
    "# PreProcessClassificationScores('interpolate')\n",
    "PreProcessStratifiedClassificationScores('interpolate')"
   ]
  },
  {
   "cell_type": "code",
   "execution_count": 37,
   "metadata": {
    "collapsed": false
   },
   "outputs": [
    {
     "name": "stdout",
     "output_type": "stream",
     "text": [
      "84.6867720732\n"
     ]
    }
   ],
   "source": [
    "#For Submitting to Kaggle\n",
    "\n",
    "# replacment = 'rowspectralmedian'\n",
    "# replacment = 'rowspectralmean'\n",
    "# replacment = 'colmean'\n",
    "# replacment = 'colmode'\n",
    "replacment = 'interpolate'\n",
    "# classifierName = classifyGaussianNaiveBayesClassifier\n",
    "classifierName = classifyRandomForestClassifier\n",
    "# classifierName = classifyKNNClassifier\n",
    "XTrain, YTrain, rawTestData = readInputFiles()\n",
    "XTrain = replaceMissingValues(XTrain, replacment)\n",
    "XTest = replaceMissingValues(rawTestData, replacment)\n",
    "# print np.isnan(XTrain).any()\n",
    "# print np.isfinite(XTrain.all())\n",
    "# score = kFoldCrossVal(XTrain, YTrain, classifierName)\n",
    "score = stratifiedKFoldVal(XTrain,YTrain,classifierName)\n",
    "print score\n",
    "#YPred = OneVsOneClassifier(LinearSVC(random_state=0)).fit(XTrain, YTrain).predict(XTest)\n",
    "YPred = RandomForestClassifier(n_estimators=50).fit(XTrain, YTrain).predict(XTest)\n",
    "# YPred = svm.SVC(kernel='linear').fit(XTrain, YTrain).predict(XTest)\n",
    "# YPred = GaussianNB().fit(XTrain, YTrain).predict(XTest)\n",
    "# YPred = KNeighborsClassifier(n_neighbors=4).fit(XTrain, YTrain).predict(XTest)\n",
    "\n",
    "writePrdictedLabelFile(YPred)"
   ]
  },
  {
   "cell_type": "code",
   "execution_count": 38,
   "metadata": {
    "collapsed": false
   },
   "outputs": [
    {
     "name": "stdout",
     "output_type": "stream",
     "text": [
      "[61.5705479222932, 66.10564002904268, 69.17640978033066, 65.1900929681203, 67.4506561428955, 67.25683836716641, 63.96424312775495, 67.75212865514831, 68.4286662655903, 66.29466862198747, 69.64029864845705]\n",
      "[83.33346234165849, 83.91907280162556, 83.98714952651638, 83.15205974154985, 84.34717973234234, 83.9188433566331, 84.43803209467468, 83.64796362731629, 82.2045373817808, 83.31043118000032, 84.84364292580923]\n",
      "[77.93882849024808, 77.69052109030919, 75.93241455942969, 75.8199039738996, 77.96158085898871, 78.11903515184869, 78.00619343989749, 77.3975508425083, 75.07635430956898, 77.62346204917847, 77.71350169958643]\n",
      "[24.171349360811668, 24.171349360811668, 24.171349360811668, 24.171349360811668, 24.171349360811668, 24.171349360811668, 24.171349360811668, 24.171349360811668, 24.171349360811668, 24.171349360811668, 24.171349360811668]\n",
      "[69.80464824561007, 68.47523397544362, 70.59293824549218, 69.91662685803792, 75.95856743268156, 76.25151303382135, 75.64274399448223, 75.48577145946668, 70.20934330426736, 67.91092585289503, 75.23731182242211]\n",
      "[81.05560433002162, 80.80750040854717, 81.05529847843131, 80.55942090290814, 82.20481222304542, 82.15981796159119, 81.95678562545004, 81.30393465436327, 80.17539269315543, 80.7852070430688, 82.0243274553749]\n",
      "[81.35053623056274, 81.28294384418632, 79.92856415716433, 79.77050023078198, 83.92120938834807, 84.2364744336084, 82.72497055055354, 83.15556932521113, 78.21540270653455, 80.3580451717326, 83.24393150602168]\n"
     ]
    }
   ],
   "source": [
    "#print scoreOneVsRestClassifier\n",
    "print scoreOneVsOneClassifier\n",
    "#print scoreOutputCodeClassifier\n",
    "print scoreRandomForestClassifier\n",
    "print scoreGaussianNaiveBayesClassifier\n",
    "print scoreBernoulliNaiveBayesClassifier\n",
    "print scoreMultinomialNaiveBayesClassifier\n",
    "print scoreMultiClassSVMClassifier\n",
    "print scoreKNNClassifier"
   ]
  },
  {
   "cell_type": "code",
   "execution_count": 49,
   "metadata": {
    "collapsed": false
   },
   "outputs": [
    {
     "data": {
      "image/png": "[encoded data removed]",
      "text/plain": [
       "<matplotlib.figure.Figure at 0x7fc9dee61290>"
      ]
     },
     "metadata": {},
     "output_type": "display_data"
    }
   ],
   "source": [
    "#Plotting the results\n",
    "import matplotlib.pyplot as plt\n",
    "%matplotlib inline\n",
    "#plt.plot(scoreOneVsRestClassifier, label = \"One Vs Rest Classifier\")\n",
    "plt.plot(scoreOneVsOneClassifier, label = \"One Vs One Classifier\")\n",
    "#plt.plot(scoreOutputCodeClassifier, label = \"Output Code Classifier\")\n",
    "plt.plot(scoreRandomForestClassifier, label = \"Random Forest Classifier\")\n",
    "plt.plot(scoreGaussianNaiveBayesClassifier, label = \"Gaussian Naive Bayes Classifier\")\n",
    "plt.plot(scoreBernoulliNaiveBayesClassifier, label = \"Bernoulli Naive Bayes Classifier\")\n",
    "plt.plot(scoreMultinomialNaiveBayesClassifier, label = \"Multinomial Naive Bayes Classifier\")\n",
    "plt.plot(scoreMultiClassSVMClassifier, label = \"Multiclass Linear SVM Classifier\")\n",
    "plt.plot(scoreKNNClassifier, label = \"KNN Classifier\")\n",
    "\n",
    "# labels = ['zeros', 'colmean', 'colmedian', 'rowmean', 'rowmedian', 'rowspectralmean', 'rowspectralmedian', \\\n",
    "#           'colmin', 'colmax', 'rowmin', 'rowmax', 'mid','rowspectralmin','rowspectralmax']\n",
    "labels = ['colmean', 'colmedian', 'rowmean', 'rowmedian', 'rowspectralmean', 'rowspectralmedian','rowspectralmin','rowspectralmax', 'rowmode', 'colmode', 'interpolate']\n",
    "# You can specify a rotation for the tick labels in degrees or with keywords.\n",
    "plt.xticks(np.arange(len(labels)), labels, rotation='vertical')\n",
    "\n",
    "plt.ylabel('Scores')\n",
    "plt.xlabel('Pre-Processing method used')\n",
    "# Place a legend to the right of this smaller figure.\n",
    "plt.legend(bbox_to_anchor=(1.05, 1), loc=2, borderaxespad=0.)\n",
    "plt.show()"
   ]
  }
 ],
 "metadata": {
  "kernelspec": {
   "display_name": "Python 2",
   "language": "python",
   "name": "python2"
  },
  "language_info": {
   "codemirror_mode": {
    "name": "ipython",
    "version": 2
   },
   "file_extension": ".py",
   "mimetype": "text/x-python",
   "name": "python",
   "nbconvert_exporter": "python",
   "pygments_lexer": "ipython2",
   "version": "2.7.6"
  }
 },
 "nbformat": 4,
 "nbformat_minor": 0
}
