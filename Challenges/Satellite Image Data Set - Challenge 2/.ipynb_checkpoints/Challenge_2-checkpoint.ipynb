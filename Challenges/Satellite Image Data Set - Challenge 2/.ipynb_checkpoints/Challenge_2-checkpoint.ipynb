{
 "cells": [
  {
   "cell_type": "markdown",
   "metadata": {},
   "source": [
    "# Data Preprocessing\n",
    "Missing Values - Replace by mean, Replace by Neighbourhood, Row-wise, Row Spectral Wise\n",
    "Use Multi-class SVM with different kernels, Multi Class Learning\n",
    "Stratified K-Fold validation for equal number of classes in each fold\n",
    "https://archive.ics.uci.edu/ml/datasets/Statlog+(Landsat+Satellite)"
   ]
  },
  {
   "cell_type": "code",
   "execution_count": 9,
   "metadata": {
    "collapsed": false
   },
   "outputs": [
    {
     "name": "stdout",
     "output_type": "stream",
     "text": [
      "[[  92.  115.  120. ...,  107.  113.   87.]\n",
      " [  84.  102.  106. ...,    0.  104.   79.]\n",
      " [  84.  102.  102. ...,   99.    0.   79.]\n",
      " ..., \n",
      " [  68.   75.  108. ...,  100.    0.   85.]\n",
      " [  71.   87.  108. ...,   91.  104.   85.]\n",
      " [  71.    0.  100. ...,    0.  100.   81.]] [[  88.  107.  113. ...,  103.  110.   86.]\n",
      " [  80.   91.   91. ...,   37.  122.  125.]\n",
      " [  63.   77.   82. ...,   77.   82.   65.]\n",
      " ..., \n",
      " [  60.   81.   94. ...,   91.  104.   83.]\n",
      " [  90.  113.  122. ...,  115.  119.   94.]\n",
      " [  79.   99.  105. ...,  102.  106.   83.]]\n"
     ]
    }
   ],
   "source": [
    "import numpy as np\n",
    "rawTrainData = np.loadtxt('sat_noisy.trn',delimiter=',')\n",
    "rawTestData = np.loadtxt('sat-test.csv.dat',delimiter=',')\n",
    "# print rawTrainData.shape\n",
    "# print rawTestData.shape\n",
    "# print rawTrainData[0]\n",
    "YTrain = rawTrainData[:,-1]\n",
    "XTrain = rawTrainData[:,:-1]\n",
    "# print YTrain.shape\n",
    "# print XTrain.shape\n",
    "\n",
    "#Replacing NaN\n",
    "# import pandas as pd\n",
    "# data = pd.Series(XTrain.reshape(4435*36))\n",
    "# data.fillna(0)\n",
    "# print data.shape\n",
    "# data = data.reshape(4435,36)\n",
    "# print data.shape\n",
    "# XTrain = data\n",
    "# np.nan_to_num(XTrain)\n",
    "# np.nan_to_num(rawTestData)\n",
    "# print np.isnan(XTrain)\n",
    "# print XTrain[1]\n",
    "import  scipy.stats as stats\n",
    "def replaceMissingValues(X, replacement):\n",
    "    if replacement == 'mean':\n",
    "        col_mean = stats.nanmean(X,axis=0)\n",
    "    elif replacement =='zeros':\n",
    "        col_mean = np.zeros(36)\n",
    "#     print col_mean\n",
    "    inds = np.where(np.isnan(X))\n",
    "    X[inds]=np.take(col_mean,inds[1])\n",
    "    X[inds]=np.take(col_mean,inds[1])\n",
    "    return X\n",
    "#     print XTrain[1]\n",
    "# XTrain = replaceMissingValues(XTrain,'mean')\n",
    "# XTest = replaceMissingValues(rawTestData,'mean')\n",
    "XTrain = replaceMissingValues(XTrain,'zeros')\n",
    "XTest = replaceMissingValues(rawTestData,'zeros')\n",
    "print XTrain,XTest\n"
   ]
  },
  {
   "cell_type": "code",
   "execution_count": 1,
   "metadata": {
    "collapsed": false
   },
   "outputs": [
    {
     "ename": "NameError",
     "evalue": "name 'clf' is not defined",
     "output_type": "error",
     "traceback": [
      "\u001b[1;31m---------------------------------------------------------------------------\u001b[0m",
      "\u001b[1;31mNameError\u001b[0m                                 Traceback (most recent call last)",
      "\u001b[1;32m<ipython-input-1-5c5702d0c595>\u001b[0m in \u001b[0;36m<module>\u001b[1;34m()\u001b[0m\n\u001b[0;32m      3\u001b[0m \u001b[1;31m# clf = svm.SVC(decision_function_shape='ovo')\u001b[0m\u001b[1;33m\u001b[0m\u001b[1;33m\u001b[0m\u001b[0m\n\u001b[0;32m      4\u001b[0m \u001b[1;31m# clf = svm.SVC(kernel='linear',probability=True)\u001b[0m\u001b[1;33m\u001b[0m\u001b[1;33m\u001b[0m\u001b[0m\n\u001b[1;32m----> 5\u001b[1;33m \u001b[0mclf\u001b[0m\u001b[1;33m.\u001b[0m\u001b[0mfit\u001b[0m\u001b[1;33m(\u001b[0m\u001b[0mXTrain\u001b[0m\u001b[1;33m,\u001b[0m \u001b[0mYTrain\u001b[0m\u001b[1;33m)\u001b[0m\u001b[1;33m\u001b[0m\u001b[0m\n\u001b[0m\u001b[0;32m      6\u001b[0m \u001b[1;31m# dec = clf.decision_function(XTest)\u001b[0m\u001b[1;33m\u001b[0m\u001b[1;33m\u001b[0m\u001b[0m\n\u001b[0;32m      7\u001b[0m \u001b[1;31m# print dec.shape[1] # 6 classes: 6*5/2 = 15\u001b[0m\u001b[1;33m\u001b[0m\u001b[1;33m\u001b[0m\u001b[0m\n",
      "\u001b[1;31mNameError\u001b[0m: name 'clf' is not defined"
     ]
    }
   ],
   "source": [
    "#Multi Class SVM\n",
    "from sklearn import svm\n",
    "# clf = svm.SVC(decision_function_shape='ovo')\n",
    "# clf = svm.SVC(kernel='linear',probability=True)\n",
    "clf.fit(XTrain, YTrain) \n",
    "# dec = clf.decision_function(XTest)\n",
    "# print dec.shape[1] # 6 classes: 6*5/2 = 15\n",
    "\n",
    "# clf.decision_function_shape = \"ova\"\n",
    "# dec = clf.decision_function(XTest)\n",
    "# dec = clf.predict(XTest)\n",
    "# print dec.shape[1] # 6 classes\n",
    "# YPred = clf.predict_proba(XTest)\n",
    "YPred = clf.predict(XTest)\n",
    "print YPred\n",
    "# predictedClasses =YPred.argmax(axis=1)\n",
    "# print predictedClasses"
   ]
  },
  {
   "cell_type": "code",
   "execution_count": 10,
   "metadata": {
    "collapsed": true
   },
   "outputs": [],
   "source": [
    "from sklearn.multiclass import OneVsRestClassifier\n",
    "from sklearn.svm import LinearSVC\n",
    "YPred = OneVsRestClassifier(LinearSVC(random_state=0)).fit(XTrain, YTrain).predict(XTest)"
   ]
  },
  {
   "cell_type": "code",
   "execution_count": 11,
   "metadata": {
    "collapsed": false
   },
   "outputs": [],
   "source": [
    "# np.savetxt('Predictions.txt', predictedClasses, delimiter=',')\n",
    "def writePrdictedLabelFile(YPred):\n",
    "    f = open(\"Predictions.txt\",\"w\")\n",
    "    f.write(\"Id,Prediction\" + \"\\n\")\n",
    "\n",
    "    for i in xrange(len(YPred)):\n",
    "        f.write(str(i+1) + \",\" + str(int(YPred[i]))+ \"\\n\")\n",
    "    \n",
    "    f.close()\n",
    "# writePrdictedLabelFile(predictedClasses)\n",
    "writePrdictedLabelFile(YPred)"
   ]
  }
 ],
 "metadata": {
  "kernelspec": {
   "display_name": "Python 2",
   "language": "python",
   "name": "python2"
  },
  "language_info": {
   "codemirror_mode": {
    "name": "ipython",
    "version": 2
   },
   "file_extension": ".py",
   "mimetype": "text/x-python",
   "name": "python",
   "nbconvert_exporter": "python",
   "pygments_lexer": "ipython2",
   "version": "2.7.6"
  }
 },
 "nbformat": 4,
 "nbformat_minor": 0
}
