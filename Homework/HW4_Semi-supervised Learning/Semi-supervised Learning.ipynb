{
 "cells": [
  {
   "cell_type": "markdown",
   "metadata": {
    "collapsed": true
   },
   "source": [
    "# Semi-supervised Learning"
   ]
  },
  {
   "cell_type": "markdown",
   "metadata": {},
   "source": [
    "## Load the dataset - Reading the input data"
   ]
  },
  {
   "cell_type": "code",
   "execution_count": 156,
   "metadata": {
    "collapsed": false
   },
   "outputs": [],
   "source": [
    "from sklearn.neighbors import KernelDensity\n",
    "from sklearn.cross_validation import train_test_split\n",
    "import numpy as np\n",
    "import scipy.io\n",
    "mat = scipy.io.loadmat('oc_514.mat')\n",
    "train = mat['x']\n",
    "xtrain = train[0,0][0]\n",
    "\n",
    "y= train[0,0][2]\n",
    "# print y.shape"
   ]
  },
  {
   "cell_type": "code",
   "execution_count": 157,
   "metadata": {
    "collapsed": false
   },
   "outputs": [],
   "source": [
    "# Divide the dataset randomly in half, 50% for the training set and 50% for the test set.\n",
    "from sklearn import preprocessing\n",
    "X_normalized = preprocessing.normalize(xtrain, norm='l2')\n",
    "XTrain, XTest, YTrain, YTest = train_test_split(X_normalized, y, test_size=0.5, random_state=42)\n",
    "# print XTrain.shape\n",
    "# print YTrain.shape\n",
    "# print xtrain[0]\n",
    "# print XTrain[0]"
   ]
  },
  {
   "cell_type": "code",
   "execution_count": 158,
   "metadata": {
    "collapsed": false
   },
   "outputs": [],
   "source": [
    "import random\n",
    "def selectRandomLabels(percentage, XTrain, YTrain):\n",
    "    rmax = len(XTrain)*percentage/100\n",
    "    idx = random.sample(range(0,len(XTrain)), rmax)\n",
    "    labelDS = []\n",
    "    labelY = []\n",
    "    unlabelDS = []\n",
    "                 \n",
    "    for i in range(0, len(XTrain)):\n",
    "        if i in idx:\n",
    "            labelDS.append(XTrain[i,:])\n",
    "            labelY.append(YTrain[i])\n",
    "        else:\n",
    "            unlabelDS.append(XTrain[i,:])\n",
    "        \n",
    "    return labelDS, labelY, unlabelDS\n"
   ]
  },
  {
   "cell_type": "code",
   "execution_count": 159,
   "metadata": {
    "collapsed": true
   },
   "outputs": [],
   "source": [
    "import random\n",
    "def makeRandomLabelsUnlabeled(percentage, YTrain):\n",
    "    rmax = len(YTrain)*(100-percentage)/100    \n",
    "    random_unlabeled_points = np.where(np.random.random_integers(0, 1, size=rmax))\n",
    "    newlabelY = np.copy(YTrain)\n",
    "    newlabelY[random_unlabeled_points] = -1\n",
    "    return newlabelY\n"
   ]
  },
  {
   "cell_type": "markdown",
   "metadata": {},
   "source": [
    "## Label propagation from scikit-learn"
   ]
  },
  {
   "cell_type": "markdown",
   "metadata": {},
   "source": [
    "###  a) Use label propagation from scikit-learn to test the change in accuracy w.r.t. the percent of labelled data. Repeat the test 100 times and show average results."
   ]
  },
  {
   "cell_type": "code",
   "execution_count": 160,
   "metadata": {
    "collapsed": false
   },
   "outputs": [],
   "source": [
    "from sklearn.semi_supervised import LabelPropagation\n",
    "def sklearnLabelPropogation(percentage, XTrain, YTrain,XTest,YTest):\n",
    "    label_prop_model = LabelPropagation(gamma=100)\n",
    "    labels = makeRandomLabelsUnlabeled(percentage, YTrain)\n",
    "#     print labels.shape\n",
    "#     print XTrain.shape\n",
    "#     YPred = label_prop_model.fit(XTrain, np.ravel(labels)).predict_proba(XTest)\n",
    "    YPred = label_prop_model.fit(XTrain, np.ravel(labels)).predict(XTest)\n",
    "    matches = 0\n",
    "    totalLabels = YPred.shape[0]\n",
    "    for i in xrange(totalLabels):\n",
    "        matches += YTest[i]==YPred[i]\n",
    "    totalUnlabelled = YPred[YPred>=255].size\n",
    "    unlabelledProportion = float(totalUnlabelled)/totalLabels * 100\n",
    "    matchingLabels = float(matches)/totalLabels *100\n",
    "    return unlabelledProportion,matchingLabels"
   ]
  },
  {
   "cell_type": "markdown",
   "metadata": {},
   "source": [
    "## Try to randomly select labels so that labeled examples constitute:\n",
    "## a) 10%"
   ]
  },
  {
   "cell_type": "code",
   "execution_count": 161,
   "metadata": {
    "collapsed": false
   },
   "outputs": [
    {
     "name": "stdout",
     "output_type": "stream",
     "text": [
      "Average Proportion of matches:  22.8047619048\n",
      "Average Proportion of Labelled Outputs:  37.419047619\n"
     ]
    }
   ],
   "source": [
    "percentage = 10\n",
    "# labelDS, labelY, unlabelDS = selectRandomLabels(percentage, XTrain, YTrain)    \n",
    "matches = 0.0\n",
    "unlabelProp = 0.0\n",
    "for iteration in xrange(100):\n",
    "    unlabelledProportion,matchingLabels = sklearnLabelPropogation(percentage, XTrain, YTrain, XTest, YTest)\n",
    "    matches += matchingLabels\n",
    "    unlabelProp += unlabelledProportion\n",
    "print 'Average Proportion of matches: ',matches/100\n",
    "print 'Average Proportion of Labelled Outputs: ',100-unlabelProp/100"
   ]
  },
  {
   "cell_type": "markdown",
   "metadata": {},
   "source": [
    "## Try to randomly select labels so that labeled examples constitute:\n",
    "## a) 30%"
   ]
  },
  {
   "cell_type": "code",
   "execution_count": 162,
   "metadata": {
    "collapsed": false
   },
   "outputs": [
    {
     "name": "stdout",
     "output_type": "stream",
     "text": [
      "Average Proportion of matches:  48.3238095238\n",
      "Average Proportion of Labelled Outputs:  77.3142857143\n"
     ]
    }
   ],
   "source": [
    "percentage = 30\n",
    "# labelDS, labelY, unlabelDS = selectRandomLabels(percentage, XTrain, YTrain)\n",
    "matches = 0.0\n",
    "unlabelProp = 0.0\n",
    "for iteration in xrange(100):\n",
    "    unlabelledProportion,matchingLabels = sklearnLabelPropogation(percentage, XTrain, YTrain, XTest, YTest)\n",
    "    matches += matchingLabels\n",
    "    unlabelProp += unlabelledProportion\n",
    "print 'Average Proportion of matches: ',matches/100\n",
    "print 'Average Proportion of Labelled Outputs: ',100-unlabelProp/100"
   ]
  },
  {
   "cell_type": "markdown",
   "metadata": {},
   "source": [
    "## Try to randomly select labels so that labeled examples constitute:\n",
    "## a) 50%"
   ]
  },
  {
   "cell_type": "code",
   "execution_count": 163,
   "metadata": {
    "collapsed": false
   },
   "outputs": [
    {
     "name": "stdout",
     "output_type": "stream",
     "text": [
      "Average Proportion of matches:  58.2904761905\n",
      "Average Proportion of Labelled Outputs:  91.919047619\n"
     ]
    }
   ],
   "source": [
    "percentage = 50\n",
    "# labelDS, labelY, unlabelDS = selectRandomLabels(percentage, XTrain, YTrain)\n",
    "matches = 0.0\n",
    "unlabelProp = 0.0\n",
    "for iteration in xrange(100):\n",
    "    unlabelledProportion,matchingLabels = sklearnLabelPropogation(percentage, XTrain, YTrain, XTest, YTest)\n",
    "    matches += matchingLabels\n",
    "    unlabelProp += unlabelledProportion\n",
    "# print matches/100,unlabelProp/100\n",
    "print 'Average Proportion of matches: ',matches/100\n",
    "print 'Average Proportion of Labelled Outputs: ',100-unlabelProp/100"
   ]
  },
  {
   "cell_type": "markdown",
   "metadata": {},
   "source": [
    "## Try to randomly select labels so that labeled examples constitute:\n",
    "## a) 100%"
   ]
  },
  {
   "cell_type": "code",
   "execution_count": 164,
   "metadata": {
    "collapsed": false
   },
   "outputs": [
    {
     "name": "stdout",
     "output_type": "stream",
     "text": [
      "Average Proportion of matches:  62.380952381\n",
      "Average Proportion of Labelled Outputs:  100.0\n"
     ]
    }
   ],
   "source": [
    "percentage = 100\n",
    "# labelDS, labelY, unlabelDS = selectRandomLabels(percentage, XTrain, YTrain)\n",
    "matches = 0.0\n",
    "unlabelProp = 0.0\n",
    "for iteration in xrange(100):\n",
    "    unlabelledProportion,matchingLabels = sklearnLabelPropogation(percentage, XTrain, YTrain, XTest, YTest)\n",
    "    matches += matchingLabels\n",
    "    unlabelProp += unlabelledProportion\n",
    "# print matches/100,unlabelProp/100\n",
    "print 'Average Proportion of matches: ',matches/100\n",
    "print 'Average Proportion of Labelled Outputs: ',100-unlabelProp/100"
   ]
  },
  {
   "cell_type": "markdown",
   "metadata": {
    "collapsed": false
   },
   "source": [
    "## Analysis of the Label Propagation\n",
    "Accuracy w.r.t. the percent of labelled data after averaging over 100 iterations increases as the labelled samples in the training data set increases.\n",
    "Accuracy w.r.t. the percent of correct labelling of the test data after averaging over 100 iterations increases as the labelled samples in the training data set increases."
   ]
  },
  {
   "cell_type": "code",
   "execution_count": null,
   "metadata": {
    "collapsed": true
   },
   "outputs": [],
   "source": []
  }
 ],
 "metadata": {
  "kernelspec": {
   "display_name": "Python 2",
   "language": "python",
   "name": "python2"
  },
  "language_info": {
   "codemirror_mode": {
    "name": "ipython",
    "version": 2
   },
   "file_extension": ".py",
   "mimetype": "text/x-python",
   "name": "python",
   "nbconvert_exporter": "python",
   "pygments_lexer": "ipython2",
   "version": "2.7.6"
  }
 },
 "nbformat": 4,
 "nbformat_minor": 0
}
